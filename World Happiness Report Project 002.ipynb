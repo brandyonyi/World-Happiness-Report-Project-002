{
 "cells": [
  {
   "cell_type": "code",
   "execution_count": 1,
   "id": "2a5937fd",
   "metadata": {},
   "outputs": [],
   "source": [
    "import pandas as pd\n",
    "import numpy as np\n",
    "import seaborn as sns\n",
    "import matplotlib.pyplot as plt\n",
    "import warnings\n",
    "warnings.filterwarnings('ignore')"
   ]
  },
  {
   "cell_type": "code",
   "execution_count": 2,
   "id": "4347ea6a",
   "metadata": {},
   "outputs": [],
   "source": [
    "url = 'https://raw.githubusercontent.com/FlipRoboTechnologies/ML-Datasets/main/World%20Happiness/happiness_score_dataset.csv'\n",
    "df = pd.read_csv(url)"
   ]
  },
  {
   "cell_type": "code",
   "execution_count": 3,
   "id": "f7ac5a0b",
   "metadata": {},
   "outputs": [
    {
     "data": {
      "text/html": [
       "<div>\n",
       "<style scoped>\n",
       "    .dataframe tbody tr th:only-of-type {\n",
       "        vertical-align: middle;\n",
       "    }\n",
       "\n",
       "    .dataframe tbody tr th {\n",
       "        vertical-align: top;\n",
       "    }\n",
       "\n",
       "    .dataframe thead th {\n",
       "        text-align: right;\n",
       "    }\n",
       "</style>\n",
       "<table border=\"1\" class=\"dataframe\">\n",
       "  <thead>\n",
       "    <tr style=\"text-align: right;\">\n",
       "      <th></th>\n",
       "      <th>Country</th>\n",
       "      <th>Region</th>\n",
       "      <th>Happiness Rank</th>\n",
       "      <th>Happiness Score</th>\n",
       "      <th>Standard Error</th>\n",
       "      <th>Economy (GDP per Capita)</th>\n",
       "      <th>Family</th>\n",
       "      <th>Health (Life Expectancy)</th>\n",
       "      <th>Freedom</th>\n",
       "      <th>Trust (Government Corruption)</th>\n",
       "      <th>Generosity</th>\n",
       "      <th>Dystopia Residual</th>\n",
       "    </tr>\n",
       "  </thead>\n",
       "  <tbody>\n",
       "    <tr>\n",
       "      <th>0</th>\n",
       "      <td>Switzerland</td>\n",
       "      <td>Western Europe</td>\n",
       "      <td>1</td>\n",
       "      <td>7.587</td>\n",
       "      <td>0.03411</td>\n",
       "      <td>1.39651</td>\n",
       "      <td>1.34951</td>\n",
       "      <td>0.94143</td>\n",
       "      <td>0.66557</td>\n",
       "      <td>0.41978</td>\n",
       "      <td>0.29678</td>\n",
       "      <td>2.51738</td>\n",
       "    </tr>\n",
       "    <tr>\n",
       "      <th>1</th>\n",
       "      <td>Iceland</td>\n",
       "      <td>Western Europe</td>\n",
       "      <td>2</td>\n",
       "      <td>7.561</td>\n",
       "      <td>0.04884</td>\n",
       "      <td>1.30232</td>\n",
       "      <td>1.40223</td>\n",
       "      <td>0.94784</td>\n",
       "      <td>0.62877</td>\n",
       "      <td>0.14145</td>\n",
       "      <td>0.43630</td>\n",
       "      <td>2.70201</td>\n",
       "    </tr>\n",
       "    <tr>\n",
       "      <th>2</th>\n",
       "      <td>Denmark</td>\n",
       "      <td>Western Europe</td>\n",
       "      <td>3</td>\n",
       "      <td>7.527</td>\n",
       "      <td>0.03328</td>\n",
       "      <td>1.32548</td>\n",
       "      <td>1.36058</td>\n",
       "      <td>0.87464</td>\n",
       "      <td>0.64938</td>\n",
       "      <td>0.48357</td>\n",
       "      <td>0.34139</td>\n",
       "      <td>2.49204</td>\n",
       "    </tr>\n",
       "    <tr>\n",
       "      <th>3</th>\n",
       "      <td>Norway</td>\n",
       "      <td>Western Europe</td>\n",
       "      <td>4</td>\n",
       "      <td>7.522</td>\n",
       "      <td>0.03880</td>\n",
       "      <td>1.45900</td>\n",
       "      <td>1.33095</td>\n",
       "      <td>0.88521</td>\n",
       "      <td>0.66973</td>\n",
       "      <td>0.36503</td>\n",
       "      <td>0.34699</td>\n",
       "      <td>2.46531</td>\n",
       "    </tr>\n",
       "    <tr>\n",
       "      <th>4</th>\n",
       "      <td>Canada</td>\n",
       "      <td>North America</td>\n",
       "      <td>5</td>\n",
       "      <td>7.427</td>\n",
       "      <td>0.03553</td>\n",
       "      <td>1.32629</td>\n",
       "      <td>1.32261</td>\n",
       "      <td>0.90563</td>\n",
       "      <td>0.63297</td>\n",
       "      <td>0.32957</td>\n",
       "      <td>0.45811</td>\n",
       "      <td>2.45176</td>\n",
       "    </tr>\n",
       "    <tr>\n",
       "      <th>5</th>\n",
       "      <td>Finland</td>\n",
       "      <td>Western Europe</td>\n",
       "      <td>6</td>\n",
       "      <td>7.406</td>\n",
       "      <td>0.03140</td>\n",
       "      <td>1.29025</td>\n",
       "      <td>1.31826</td>\n",
       "      <td>0.88911</td>\n",
       "      <td>0.64169</td>\n",
       "      <td>0.41372</td>\n",
       "      <td>0.23351</td>\n",
       "      <td>2.61955</td>\n",
       "    </tr>\n",
       "    <tr>\n",
       "      <th>6</th>\n",
       "      <td>Netherlands</td>\n",
       "      <td>Western Europe</td>\n",
       "      <td>7</td>\n",
       "      <td>7.378</td>\n",
       "      <td>0.02799</td>\n",
       "      <td>1.32944</td>\n",
       "      <td>1.28017</td>\n",
       "      <td>0.89284</td>\n",
       "      <td>0.61576</td>\n",
       "      <td>0.31814</td>\n",
       "      <td>0.47610</td>\n",
       "      <td>2.46570</td>\n",
       "    </tr>\n",
       "    <tr>\n",
       "      <th>7</th>\n",
       "      <td>Sweden</td>\n",
       "      <td>Western Europe</td>\n",
       "      <td>8</td>\n",
       "      <td>7.364</td>\n",
       "      <td>0.03157</td>\n",
       "      <td>1.33171</td>\n",
       "      <td>1.28907</td>\n",
       "      <td>0.91087</td>\n",
       "      <td>0.65980</td>\n",
       "      <td>0.43844</td>\n",
       "      <td>0.36262</td>\n",
       "      <td>2.37119</td>\n",
       "    </tr>\n",
       "    <tr>\n",
       "      <th>8</th>\n",
       "      <td>New Zealand</td>\n",
       "      <td>Australia and New Zealand</td>\n",
       "      <td>9</td>\n",
       "      <td>7.286</td>\n",
       "      <td>0.03371</td>\n",
       "      <td>1.25018</td>\n",
       "      <td>1.31967</td>\n",
       "      <td>0.90837</td>\n",
       "      <td>0.63938</td>\n",
       "      <td>0.42922</td>\n",
       "      <td>0.47501</td>\n",
       "      <td>2.26425</td>\n",
       "    </tr>\n",
       "    <tr>\n",
       "      <th>9</th>\n",
       "      <td>Australia</td>\n",
       "      <td>Australia and New Zealand</td>\n",
       "      <td>10</td>\n",
       "      <td>7.284</td>\n",
       "      <td>0.04083</td>\n",
       "      <td>1.33358</td>\n",
       "      <td>1.30923</td>\n",
       "      <td>0.93156</td>\n",
       "      <td>0.65124</td>\n",
       "      <td>0.35637</td>\n",
       "      <td>0.43562</td>\n",
       "      <td>2.26646</td>\n",
       "    </tr>\n",
       "    <tr>\n",
       "      <th>10</th>\n",
       "      <td>Israel</td>\n",
       "      <td>Middle East and Northern Africa</td>\n",
       "      <td>11</td>\n",
       "      <td>7.278</td>\n",
       "      <td>0.03470</td>\n",
       "      <td>1.22857</td>\n",
       "      <td>1.22393</td>\n",
       "      <td>0.91387</td>\n",
       "      <td>0.41319</td>\n",
       "      <td>0.07785</td>\n",
       "      <td>0.33172</td>\n",
       "      <td>3.08854</td>\n",
       "    </tr>\n",
       "    <tr>\n",
       "      <th>11</th>\n",
       "      <td>Costa Rica</td>\n",
       "      <td>Latin America and Caribbean</td>\n",
       "      <td>12</td>\n",
       "      <td>7.226</td>\n",
       "      <td>0.04454</td>\n",
       "      <td>0.95578</td>\n",
       "      <td>1.23788</td>\n",
       "      <td>0.86027</td>\n",
       "      <td>0.63376</td>\n",
       "      <td>0.10583</td>\n",
       "      <td>0.25497</td>\n",
       "      <td>3.17728</td>\n",
       "    </tr>\n",
       "    <tr>\n",
       "      <th>12</th>\n",
       "      <td>Austria</td>\n",
       "      <td>Western Europe</td>\n",
       "      <td>13</td>\n",
       "      <td>7.200</td>\n",
       "      <td>0.03751</td>\n",
       "      <td>1.33723</td>\n",
       "      <td>1.29704</td>\n",
       "      <td>0.89042</td>\n",
       "      <td>0.62433</td>\n",
       "      <td>0.18676</td>\n",
       "      <td>0.33088</td>\n",
       "      <td>2.53320</td>\n",
       "    </tr>\n",
       "    <tr>\n",
       "      <th>13</th>\n",
       "      <td>Mexico</td>\n",
       "      <td>Latin America and Caribbean</td>\n",
       "      <td>14</td>\n",
       "      <td>7.187</td>\n",
       "      <td>0.04176</td>\n",
       "      <td>1.02054</td>\n",
       "      <td>0.91451</td>\n",
       "      <td>0.81444</td>\n",
       "      <td>0.48181</td>\n",
       "      <td>0.21312</td>\n",
       "      <td>0.14074</td>\n",
       "      <td>3.60214</td>\n",
       "    </tr>\n",
       "    <tr>\n",
       "      <th>14</th>\n",
       "      <td>United States</td>\n",
       "      <td>North America</td>\n",
       "      <td>15</td>\n",
       "      <td>7.119</td>\n",
       "      <td>0.03839</td>\n",
       "      <td>1.39451</td>\n",
       "      <td>1.24711</td>\n",
       "      <td>0.86179</td>\n",
       "      <td>0.54604</td>\n",
       "      <td>0.15890</td>\n",
       "      <td>0.40105</td>\n",
       "      <td>2.51011</td>\n",
       "    </tr>\n",
       "    <tr>\n",
       "      <th>15</th>\n",
       "      <td>Brazil</td>\n",
       "      <td>Latin America and Caribbean</td>\n",
       "      <td>16</td>\n",
       "      <td>6.983</td>\n",
       "      <td>0.04076</td>\n",
       "      <td>0.98124</td>\n",
       "      <td>1.23287</td>\n",
       "      <td>0.69702</td>\n",
       "      <td>0.49049</td>\n",
       "      <td>0.17521</td>\n",
       "      <td>0.14574</td>\n",
       "      <td>3.26001</td>\n",
       "    </tr>\n",
       "    <tr>\n",
       "      <th>16</th>\n",
       "      <td>Luxembourg</td>\n",
       "      <td>Western Europe</td>\n",
       "      <td>17</td>\n",
       "      <td>6.946</td>\n",
       "      <td>0.03499</td>\n",
       "      <td>1.56391</td>\n",
       "      <td>1.21963</td>\n",
       "      <td>0.91894</td>\n",
       "      <td>0.61583</td>\n",
       "      <td>0.37798</td>\n",
       "      <td>0.28034</td>\n",
       "      <td>1.96961</td>\n",
       "    </tr>\n",
       "    <tr>\n",
       "      <th>17</th>\n",
       "      <td>Ireland</td>\n",
       "      <td>Western Europe</td>\n",
       "      <td>18</td>\n",
       "      <td>6.940</td>\n",
       "      <td>0.03676</td>\n",
       "      <td>1.33596</td>\n",
       "      <td>1.36948</td>\n",
       "      <td>0.89533</td>\n",
       "      <td>0.61777</td>\n",
       "      <td>0.28703</td>\n",
       "      <td>0.45901</td>\n",
       "      <td>1.97570</td>\n",
       "    </tr>\n",
       "    <tr>\n",
       "      <th>18</th>\n",
       "      <td>Belgium</td>\n",
       "      <td>Western Europe</td>\n",
       "      <td>19</td>\n",
       "      <td>6.937</td>\n",
       "      <td>0.03595</td>\n",
       "      <td>1.30782</td>\n",
       "      <td>1.28566</td>\n",
       "      <td>0.89667</td>\n",
       "      <td>0.58450</td>\n",
       "      <td>0.22540</td>\n",
       "      <td>0.22250</td>\n",
       "      <td>2.41484</td>\n",
       "    </tr>\n",
       "    <tr>\n",
       "      <th>19</th>\n",
       "      <td>United Arab Emirates</td>\n",
       "      <td>Middle East and Northern Africa</td>\n",
       "      <td>20</td>\n",
       "      <td>6.901</td>\n",
       "      <td>0.03729</td>\n",
       "      <td>1.42727</td>\n",
       "      <td>1.12575</td>\n",
       "      <td>0.80925</td>\n",
       "      <td>0.64157</td>\n",
       "      <td>0.38583</td>\n",
       "      <td>0.26428</td>\n",
       "      <td>2.24743</td>\n",
       "    </tr>\n",
       "  </tbody>\n",
       "</table>\n",
       "</div>"
      ],
      "text/plain": [
       "                 Country                           Region  Happiness Rank  \\\n",
       "0            Switzerland                   Western Europe               1   \n",
       "1                Iceland                   Western Europe               2   \n",
       "2                Denmark                   Western Europe               3   \n",
       "3                 Norway                   Western Europe               4   \n",
       "4                 Canada                    North America               5   \n",
       "5                Finland                   Western Europe               6   \n",
       "6            Netherlands                   Western Europe               7   \n",
       "7                 Sweden                   Western Europe               8   \n",
       "8            New Zealand        Australia and New Zealand               9   \n",
       "9              Australia        Australia and New Zealand              10   \n",
       "10                Israel  Middle East and Northern Africa              11   \n",
       "11            Costa Rica      Latin America and Caribbean              12   \n",
       "12               Austria                   Western Europe              13   \n",
       "13                Mexico      Latin America and Caribbean              14   \n",
       "14         United States                    North America              15   \n",
       "15                Brazil      Latin America and Caribbean              16   \n",
       "16            Luxembourg                   Western Europe              17   \n",
       "17               Ireland                   Western Europe              18   \n",
       "18               Belgium                   Western Europe              19   \n",
       "19  United Arab Emirates  Middle East and Northern Africa              20   \n",
       "\n",
       "    Happiness Score  Standard Error  Economy (GDP per Capita)   Family  \\\n",
       "0             7.587         0.03411                   1.39651  1.34951   \n",
       "1             7.561         0.04884                   1.30232  1.40223   \n",
       "2             7.527         0.03328                   1.32548  1.36058   \n",
       "3             7.522         0.03880                   1.45900  1.33095   \n",
       "4             7.427         0.03553                   1.32629  1.32261   \n",
       "5             7.406         0.03140                   1.29025  1.31826   \n",
       "6             7.378         0.02799                   1.32944  1.28017   \n",
       "7             7.364         0.03157                   1.33171  1.28907   \n",
       "8             7.286         0.03371                   1.25018  1.31967   \n",
       "9             7.284         0.04083                   1.33358  1.30923   \n",
       "10            7.278         0.03470                   1.22857  1.22393   \n",
       "11            7.226         0.04454                   0.95578  1.23788   \n",
       "12            7.200         0.03751                   1.33723  1.29704   \n",
       "13            7.187         0.04176                   1.02054  0.91451   \n",
       "14            7.119         0.03839                   1.39451  1.24711   \n",
       "15            6.983         0.04076                   0.98124  1.23287   \n",
       "16            6.946         0.03499                   1.56391  1.21963   \n",
       "17            6.940         0.03676                   1.33596  1.36948   \n",
       "18            6.937         0.03595                   1.30782  1.28566   \n",
       "19            6.901         0.03729                   1.42727  1.12575   \n",
       "\n",
       "    Health (Life Expectancy)  Freedom  Trust (Government Corruption)  \\\n",
       "0                    0.94143  0.66557                        0.41978   \n",
       "1                    0.94784  0.62877                        0.14145   \n",
       "2                    0.87464  0.64938                        0.48357   \n",
       "3                    0.88521  0.66973                        0.36503   \n",
       "4                    0.90563  0.63297                        0.32957   \n",
       "5                    0.88911  0.64169                        0.41372   \n",
       "6                    0.89284  0.61576                        0.31814   \n",
       "7                    0.91087  0.65980                        0.43844   \n",
       "8                    0.90837  0.63938                        0.42922   \n",
       "9                    0.93156  0.65124                        0.35637   \n",
       "10                   0.91387  0.41319                        0.07785   \n",
       "11                   0.86027  0.63376                        0.10583   \n",
       "12                   0.89042  0.62433                        0.18676   \n",
       "13                   0.81444  0.48181                        0.21312   \n",
       "14                   0.86179  0.54604                        0.15890   \n",
       "15                   0.69702  0.49049                        0.17521   \n",
       "16                   0.91894  0.61583                        0.37798   \n",
       "17                   0.89533  0.61777                        0.28703   \n",
       "18                   0.89667  0.58450                        0.22540   \n",
       "19                   0.80925  0.64157                        0.38583   \n",
       "\n",
       "    Generosity  Dystopia Residual  \n",
       "0      0.29678            2.51738  \n",
       "1      0.43630            2.70201  \n",
       "2      0.34139            2.49204  \n",
       "3      0.34699            2.46531  \n",
       "4      0.45811            2.45176  \n",
       "5      0.23351            2.61955  \n",
       "6      0.47610            2.46570  \n",
       "7      0.36262            2.37119  \n",
       "8      0.47501            2.26425  \n",
       "9      0.43562            2.26646  \n",
       "10     0.33172            3.08854  \n",
       "11     0.25497            3.17728  \n",
       "12     0.33088            2.53320  \n",
       "13     0.14074            3.60214  \n",
       "14     0.40105            2.51011  \n",
       "15     0.14574            3.26001  \n",
       "16     0.28034            1.96961  \n",
       "17     0.45901            1.97570  \n",
       "18     0.22250            2.41484  \n",
       "19     0.26428            2.24743  "
      ]
     },
     "execution_count": 3,
     "metadata": {},
     "output_type": "execute_result"
    }
   ],
   "source": [
    "df.head(20)"
   ]
  },
  {
   "cell_type": "code",
   "execution_count": 4,
   "id": "a332a353",
   "metadata": {},
   "outputs": [
    {
     "data": {
      "text/html": [
       "<div>\n",
       "<style scoped>\n",
       "    .dataframe tbody tr th:only-of-type {\n",
       "        vertical-align: middle;\n",
       "    }\n",
       "\n",
       "    .dataframe tbody tr th {\n",
       "        vertical-align: top;\n",
       "    }\n",
       "\n",
       "    .dataframe thead th {\n",
       "        text-align: right;\n",
       "    }\n",
       "</style>\n",
       "<table border=\"1\" class=\"dataframe\">\n",
       "  <thead>\n",
       "    <tr style=\"text-align: right;\">\n",
       "      <th></th>\n",
       "      <th>Country</th>\n",
       "      <th>Region</th>\n",
       "      <th>Happiness Rank</th>\n",
       "      <th>Happiness Score</th>\n",
       "      <th>Standard Error</th>\n",
       "      <th>Economy (GDP per Capita)</th>\n",
       "      <th>Family</th>\n",
       "      <th>Health (Life Expectancy)</th>\n",
       "      <th>Freedom</th>\n",
       "      <th>Trust (Government Corruption)</th>\n",
       "      <th>Generosity</th>\n",
       "      <th>Dystopia Residual</th>\n",
       "    </tr>\n",
       "  </thead>\n",
       "  <tbody>\n",
       "    <tr>\n",
       "      <th>143</th>\n",
       "      <td>Niger</td>\n",
       "      <td>Sub-Saharan Africa</td>\n",
       "      <td>144</td>\n",
       "      <td>3.845</td>\n",
       "      <td>0.03602</td>\n",
       "      <td>0.06940</td>\n",
       "      <td>0.77265</td>\n",
       "      <td>0.29707</td>\n",
       "      <td>0.47692</td>\n",
       "      <td>0.15639</td>\n",
       "      <td>0.19387</td>\n",
       "      <td>1.87877</td>\n",
       "    </tr>\n",
       "    <tr>\n",
       "      <th>144</th>\n",
       "      <td>Cambodia</td>\n",
       "      <td>Southeastern Asia</td>\n",
       "      <td>145</td>\n",
       "      <td>3.819</td>\n",
       "      <td>0.05069</td>\n",
       "      <td>0.46038</td>\n",
       "      <td>0.62736</td>\n",
       "      <td>0.61114</td>\n",
       "      <td>0.66246</td>\n",
       "      <td>0.07247</td>\n",
       "      <td>0.40359</td>\n",
       "      <td>0.98195</td>\n",
       "    </tr>\n",
       "    <tr>\n",
       "      <th>145</th>\n",
       "      <td>Tanzania</td>\n",
       "      <td>Sub-Saharan Africa</td>\n",
       "      <td>146</td>\n",
       "      <td>3.781</td>\n",
       "      <td>0.05061</td>\n",
       "      <td>0.28520</td>\n",
       "      <td>1.00268</td>\n",
       "      <td>0.38215</td>\n",
       "      <td>0.32878</td>\n",
       "      <td>0.05747</td>\n",
       "      <td>0.34377</td>\n",
       "      <td>1.38079</td>\n",
       "    </tr>\n",
       "    <tr>\n",
       "      <th>146</th>\n",
       "      <td>Madagascar</td>\n",
       "      <td>Sub-Saharan Africa</td>\n",
       "      <td>147</td>\n",
       "      <td>3.681</td>\n",
       "      <td>0.03633</td>\n",
       "      <td>0.20824</td>\n",
       "      <td>0.66801</td>\n",
       "      <td>0.46721</td>\n",
       "      <td>0.19184</td>\n",
       "      <td>0.08124</td>\n",
       "      <td>0.21333</td>\n",
       "      <td>1.85100</td>\n",
       "    </tr>\n",
       "    <tr>\n",
       "      <th>147</th>\n",
       "      <td>Central African Republic</td>\n",
       "      <td>Sub-Saharan Africa</td>\n",
       "      <td>148</td>\n",
       "      <td>3.678</td>\n",
       "      <td>0.06112</td>\n",
       "      <td>0.07850</td>\n",
       "      <td>0.00000</td>\n",
       "      <td>0.06699</td>\n",
       "      <td>0.48879</td>\n",
       "      <td>0.08289</td>\n",
       "      <td>0.23835</td>\n",
       "      <td>2.72230</td>\n",
       "    </tr>\n",
       "    <tr>\n",
       "      <th>148</th>\n",
       "      <td>Chad</td>\n",
       "      <td>Sub-Saharan Africa</td>\n",
       "      <td>149</td>\n",
       "      <td>3.667</td>\n",
       "      <td>0.03830</td>\n",
       "      <td>0.34193</td>\n",
       "      <td>0.76062</td>\n",
       "      <td>0.15010</td>\n",
       "      <td>0.23501</td>\n",
       "      <td>0.05269</td>\n",
       "      <td>0.18386</td>\n",
       "      <td>1.94296</td>\n",
       "    </tr>\n",
       "    <tr>\n",
       "      <th>149</th>\n",
       "      <td>Guinea</td>\n",
       "      <td>Sub-Saharan Africa</td>\n",
       "      <td>150</td>\n",
       "      <td>3.656</td>\n",
       "      <td>0.03590</td>\n",
       "      <td>0.17417</td>\n",
       "      <td>0.46475</td>\n",
       "      <td>0.24009</td>\n",
       "      <td>0.37725</td>\n",
       "      <td>0.12139</td>\n",
       "      <td>0.28657</td>\n",
       "      <td>1.99172</td>\n",
       "    </tr>\n",
       "    <tr>\n",
       "      <th>150</th>\n",
       "      <td>Ivory Coast</td>\n",
       "      <td>Sub-Saharan Africa</td>\n",
       "      <td>151</td>\n",
       "      <td>3.655</td>\n",
       "      <td>0.05141</td>\n",
       "      <td>0.46534</td>\n",
       "      <td>0.77115</td>\n",
       "      <td>0.15185</td>\n",
       "      <td>0.46866</td>\n",
       "      <td>0.17922</td>\n",
       "      <td>0.20165</td>\n",
       "      <td>1.41723</td>\n",
       "    </tr>\n",
       "    <tr>\n",
       "      <th>151</th>\n",
       "      <td>Burkina Faso</td>\n",
       "      <td>Sub-Saharan Africa</td>\n",
       "      <td>152</td>\n",
       "      <td>3.587</td>\n",
       "      <td>0.04324</td>\n",
       "      <td>0.25812</td>\n",
       "      <td>0.85188</td>\n",
       "      <td>0.27125</td>\n",
       "      <td>0.39493</td>\n",
       "      <td>0.12832</td>\n",
       "      <td>0.21747</td>\n",
       "      <td>1.46494</td>\n",
       "    </tr>\n",
       "    <tr>\n",
       "      <th>152</th>\n",
       "      <td>Afghanistan</td>\n",
       "      <td>Southern Asia</td>\n",
       "      <td>153</td>\n",
       "      <td>3.575</td>\n",
       "      <td>0.03084</td>\n",
       "      <td>0.31982</td>\n",
       "      <td>0.30285</td>\n",
       "      <td>0.30335</td>\n",
       "      <td>0.23414</td>\n",
       "      <td>0.09719</td>\n",
       "      <td>0.36510</td>\n",
       "      <td>1.95210</td>\n",
       "    </tr>\n",
       "    <tr>\n",
       "      <th>153</th>\n",
       "      <td>Rwanda</td>\n",
       "      <td>Sub-Saharan Africa</td>\n",
       "      <td>154</td>\n",
       "      <td>3.465</td>\n",
       "      <td>0.03464</td>\n",
       "      <td>0.22208</td>\n",
       "      <td>0.77370</td>\n",
       "      <td>0.42864</td>\n",
       "      <td>0.59201</td>\n",
       "      <td>0.55191</td>\n",
       "      <td>0.22628</td>\n",
       "      <td>0.67042</td>\n",
       "    </tr>\n",
       "    <tr>\n",
       "      <th>154</th>\n",
       "      <td>Benin</td>\n",
       "      <td>Sub-Saharan Africa</td>\n",
       "      <td>155</td>\n",
       "      <td>3.340</td>\n",
       "      <td>0.03656</td>\n",
       "      <td>0.28665</td>\n",
       "      <td>0.35386</td>\n",
       "      <td>0.31910</td>\n",
       "      <td>0.48450</td>\n",
       "      <td>0.08010</td>\n",
       "      <td>0.18260</td>\n",
       "      <td>1.63328</td>\n",
       "    </tr>\n",
       "    <tr>\n",
       "      <th>155</th>\n",
       "      <td>Syria</td>\n",
       "      <td>Middle East and Northern Africa</td>\n",
       "      <td>156</td>\n",
       "      <td>3.006</td>\n",
       "      <td>0.05015</td>\n",
       "      <td>0.66320</td>\n",
       "      <td>0.47489</td>\n",
       "      <td>0.72193</td>\n",
       "      <td>0.15684</td>\n",
       "      <td>0.18906</td>\n",
       "      <td>0.47179</td>\n",
       "      <td>0.32858</td>\n",
       "    </tr>\n",
       "    <tr>\n",
       "      <th>156</th>\n",
       "      <td>Burundi</td>\n",
       "      <td>Sub-Saharan Africa</td>\n",
       "      <td>157</td>\n",
       "      <td>2.905</td>\n",
       "      <td>0.08658</td>\n",
       "      <td>0.01530</td>\n",
       "      <td>0.41587</td>\n",
       "      <td>0.22396</td>\n",
       "      <td>0.11850</td>\n",
       "      <td>0.10062</td>\n",
       "      <td>0.19727</td>\n",
       "      <td>1.83302</td>\n",
       "    </tr>\n",
       "    <tr>\n",
       "      <th>157</th>\n",
       "      <td>Togo</td>\n",
       "      <td>Sub-Saharan Africa</td>\n",
       "      <td>158</td>\n",
       "      <td>2.839</td>\n",
       "      <td>0.06727</td>\n",
       "      <td>0.20868</td>\n",
       "      <td>0.13995</td>\n",
       "      <td>0.28443</td>\n",
       "      <td>0.36453</td>\n",
       "      <td>0.10731</td>\n",
       "      <td>0.16681</td>\n",
       "      <td>1.56726</td>\n",
       "    </tr>\n",
       "  </tbody>\n",
       "</table>\n",
       "</div>"
      ],
      "text/plain": [
       "                      Country                           Region  \\\n",
       "143                     Niger               Sub-Saharan Africa   \n",
       "144                  Cambodia                Southeastern Asia   \n",
       "145                  Tanzania               Sub-Saharan Africa   \n",
       "146                Madagascar               Sub-Saharan Africa   \n",
       "147  Central African Republic               Sub-Saharan Africa   \n",
       "148                      Chad               Sub-Saharan Africa   \n",
       "149                    Guinea               Sub-Saharan Africa   \n",
       "150               Ivory Coast               Sub-Saharan Africa   \n",
       "151              Burkina Faso               Sub-Saharan Africa   \n",
       "152               Afghanistan                    Southern Asia   \n",
       "153                    Rwanda               Sub-Saharan Africa   \n",
       "154                     Benin               Sub-Saharan Africa   \n",
       "155                     Syria  Middle East and Northern Africa   \n",
       "156                   Burundi               Sub-Saharan Africa   \n",
       "157                      Togo               Sub-Saharan Africa   \n",
       "\n",
       "     Happiness Rank  Happiness Score  Standard Error  \\\n",
       "143             144            3.845         0.03602   \n",
       "144             145            3.819         0.05069   \n",
       "145             146            3.781         0.05061   \n",
       "146             147            3.681         0.03633   \n",
       "147             148            3.678         0.06112   \n",
       "148             149            3.667         0.03830   \n",
       "149             150            3.656         0.03590   \n",
       "150             151            3.655         0.05141   \n",
       "151             152            3.587         0.04324   \n",
       "152             153            3.575         0.03084   \n",
       "153             154            3.465         0.03464   \n",
       "154             155            3.340         0.03656   \n",
       "155             156            3.006         0.05015   \n",
       "156             157            2.905         0.08658   \n",
       "157             158            2.839         0.06727   \n",
       "\n",
       "     Economy (GDP per Capita)   Family  Health (Life Expectancy)  Freedom  \\\n",
       "143                   0.06940  0.77265                   0.29707  0.47692   \n",
       "144                   0.46038  0.62736                   0.61114  0.66246   \n",
       "145                   0.28520  1.00268                   0.38215  0.32878   \n",
       "146                   0.20824  0.66801                   0.46721  0.19184   \n",
       "147                   0.07850  0.00000                   0.06699  0.48879   \n",
       "148                   0.34193  0.76062                   0.15010  0.23501   \n",
       "149                   0.17417  0.46475                   0.24009  0.37725   \n",
       "150                   0.46534  0.77115                   0.15185  0.46866   \n",
       "151                   0.25812  0.85188                   0.27125  0.39493   \n",
       "152                   0.31982  0.30285                   0.30335  0.23414   \n",
       "153                   0.22208  0.77370                   0.42864  0.59201   \n",
       "154                   0.28665  0.35386                   0.31910  0.48450   \n",
       "155                   0.66320  0.47489                   0.72193  0.15684   \n",
       "156                   0.01530  0.41587                   0.22396  0.11850   \n",
       "157                   0.20868  0.13995                   0.28443  0.36453   \n",
       "\n",
       "     Trust (Government Corruption)  Generosity  Dystopia Residual  \n",
       "143                        0.15639     0.19387            1.87877  \n",
       "144                        0.07247     0.40359            0.98195  \n",
       "145                        0.05747     0.34377            1.38079  \n",
       "146                        0.08124     0.21333            1.85100  \n",
       "147                        0.08289     0.23835            2.72230  \n",
       "148                        0.05269     0.18386            1.94296  \n",
       "149                        0.12139     0.28657            1.99172  \n",
       "150                        0.17922     0.20165            1.41723  \n",
       "151                        0.12832     0.21747            1.46494  \n",
       "152                        0.09719     0.36510            1.95210  \n",
       "153                        0.55191     0.22628            0.67042  \n",
       "154                        0.08010     0.18260            1.63328  \n",
       "155                        0.18906     0.47179            0.32858  \n",
       "156                        0.10062     0.19727            1.83302  \n",
       "157                        0.10731     0.16681            1.56726  "
      ]
     },
     "execution_count": 4,
     "metadata": {},
     "output_type": "execute_result"
    }
   ],
   "source": [
    "df.tail(15)"
   ]
  },
  {
   "cell_type": "code",
   "execution_count": 5,
   "id": "0340f493",
   "metadata": {},
   "outputs": [
    {
     "data": {
      "text/plain": [
       "(158, 12)"
      ]
     },
     "execution_count": 5,
     "metadata": {},
     "output_type": "execute_result"
    }
   ],
   "source": [
    "df.shape"
   ]
  },
  {
   "cell_type": "markdown",
   "id": "1bd812cd",
   "metadata": {},
   "source": [
    "The dataset comprises 158 rows and 12 columns, with the happiness score designated as the target variable and the remaining 11 columns representing independent variables."
   ]
  },
  {
   "cell_type": "code",
   "execution_count": 6,
   "id": "b75c8d0a",
   "metadata": {},
   "outputs": [
    {
     "data": {
      "text/plain": [
       "['Country',\n",
       " 'Region',\n",
       " 'Happiness Rank',\n",
       " 'Happiness Score',\n",
       " 'Standard Error',\n",
       " 'Economy (GDP per Capita)',\n",
       " 'Family',\n",
       " 'Health (Life Expectancy)',\n",
       " 'Freedom',\n",
       " 'Trust (Government Corruption)',\n",
       " 'Generosity',\n",
       " 'Dystopia Residual']"
      ]
     },
     "execution_count": 6,
     "metadata": {},
     "output_type": "execute_result"
    }
   ],
   "source": [
    "df.columns.tolist()"
   ]
  },
  {
   "cell_type": "code",
   "execution_count": 7,
   "id": "52755917",
   "metadata": {},
   "outputs": [
    {
     "data": {
      "text/plain": [
       "Country                           object\n",
       "Region                            object\n",
       "Happiness Rank                     int64\n",
       "Happiness Score                  float64\n",
       "Standard Error                   float64\n",
       "Economy (GDP per Capita)         float64\n",
       "Family                           float64\n",
       "Health (Life Expectancy)         float64\n",
       "Freedom                          float64\n",
       "Trust (Government Corruption)    float64\n",
       "Generosity                       float64\n",
       "Dystopia Residual                float64\n",
       "dtype: object"
      ]
     },
     "execution_count": 7,
     "metadata": {},
     "output_type": "execute_result"
    }
   ],
   "source": [
    "df.dtypes"
   ]
  },
  {
   "cell_type": "markdown",
   "id": "f152696f",
   "metadata": {},
   "source": [
    "The dataset comprises three distinct data types: 'object', 'int64', and 'float64'."
   ]
  },
  {
   "cell_type": "code",
   "execution_count": 8,
   "id": "7aeb52e2",
   "metadata": {},
   "outputs": [
    {
     "name": "stdout",
     "output_type": "stream",
     "text": [
      "<class 'pandas.core.frame.DataFrame'>\n",
      "RangeIndex: 158 entries, 0 to 157\n",
      "Data columns (total 12 columns):\n",
      " #   Column                         Non-Null Count  Dtype  \n",
      "---  ------                         --------------  -----  \n",
      " 0   Country                        158 non-null    object \n",
      " 1   Region                         158 non-null    object \n",
      " 2   Happiness Rank                 158 non-null    int64  \n",
      " 3   Happiness Score                158 non-null    float64\n",
      " 4   Standard Error                 158 non-null    float64\n",
      " 5   Economy (GDP per Capita)       158 non-null    float64\n",
      " 6   Family                         158 non-null    float64\n",
      " 7   Health (Life Expectancy)       158 non-null    float64\n",
      " 8   Freedom                        158 non-null    float64\n",
      " 9   Trust (Government Corruption)  158 non-null    float64\n",
      " 10  Generosity                     158 non-null    float64\n",
      " 11  Dystopia Residual              158 non-null    float64\n",
      "dtypes: float64(9), int64(1), object(2)\n",
      "memory usage: 14.9+ KB\n",
      "None\n"
     ]
    }
   ],
   "source": [
    "print(df.info())"
   ]
  },
  {
   "cell_type": "code",
   "execution_count": 9,
   "id": "97da6d93",
   "metadata": {},
   "outputs": [
    {
     "name": "stdout",
     "output_type": "stream",
     "text": [
      "Country                          0\n",
      "Region                           0\n",
      "Happiness Rank                   0\n",
      "Happiness Score                  0\n",
      "Standard Error                   0\n",
      "Economy (GDP per Capita)         0\n",
      "Family                           0\n",
      "Health (Life Expectancy)         0\n",
      "Freedom                          0\n",
      "Trust (Government Corruption)    0\n",
      "Generosity                       0\n",
      "Dystopia Residual                0\n",
      "dtype: int64\n"
     ]
    }
   ],
   "source": [
    "print(df.isnull().sum())"
   ]
  },
  {
   "cell_type": "code",
   "execution_count": 10,
   "id": "28ded27a",
   "metadata": {},
   "outputs": [
    {
     "data": {
      "text/plain": [
       "<Axes: >"
      ]
     },
     "execution_count": 10,
     "metadata": {},
     "output_type": "execute_result"
    },
    {
     "data": {
      "image/png": "[encoded data removed]",
      "text/plain": [
       "<Figure size 640x480 with 2 Axes>"
      ]
     },
     "metadata": {},
     "output_type": "display_data"
    }
   ],
   "source": [
    "sns.heatmap(df.isnull())"
   ]
  },
  {
   "cell_type": "code",
   "execution_count": 13,
   "id": "8b2ef8d8",
   "metadata": {},
   "outputs": [
    {
     "name": "stdout",
     "output_type": "stream",
     "text": [
      "Country\n",
      "Switzerland    1\n",
      "Bangladesh     1\n",
      "Greece         1\n",
      "Lebanon        1\n",
      "Hungary        1\n",
      "              ..\n",
      "Kazakhstan     1\n",
      "Slovenia       1\n",
      "Lithuania      1\n",
      "Nicaragua      1\n",
      "Togo           1\n",
      "Name: count, Length: 158, dtype: int64\n",
      "\n",
      "\n",
      "Region\n",
      "Sub-Saharan Africa                 40\n",
      "Central and Eastern Europe         29\n",
      "Latin America and Caribbean        22\n",
      "Western Europe                     21\n",
      "Middle East and Northern Africa    20\n",
      "Southeastern Asia                   9\n",
      "Southern Asia                       7\n",
      "Eastern Asia                        6\n",
      "North America                       2\n",
      "Australia and New Zealand           2\n",
      "Name: count, dtype: int64\n",
      "\n",
      "\n",
      "Happiness Rank\n",
      "82     2\n",
      "1      1\n",
      "110    1\n",
      "103    1\n",
      "104    1\n",
      "      ..\n",
      "54     1\n",
      "55     1\n",
      "56     1\n",
      "57     1\n",
      "158    1\n",
      "Name: count, Length: 157, dtype: int64\n",
      "\n",
      "\n",
      "Happiness Score\n",
      "5.192    2\n",
      "7.587    1\n",
      "4.686    1\n",
      "4.839    1\n",
      "4.800    1\n",
      "        ..\n",
      "5.855    1\n",
      "5.848    1\n",
      "5.833    1\n",
      "5.828    1\n",
      "2.839    1\n",
      "Name: count, Length: 157, dtype: int64\n",
      "\n",
      "\n",
      "Standard Error\n",
      "0.03780    2\n",
      "0.03751    2\n",
      "0.04394    2\n",
      "0.05051    2\n",
      "0.04934    2\n",
      "          ..\n",
      "0.04114    1\n",
      "0.04251    1\n",
      "0.03843    1\n",
      "0.05371    1\n",
      "0.06727    1\n",
      "Name: count, Length: 153, dtype: int64\n",
      "\n",
      "\n",
      "Economy (GDP per Capita)\n",
      "1.39651    1\n",
      "0.39753    1\n",
      "1.15406    1\n",
      "1.02564    1\n",
      "1.12094    1\n",
      "          ..\n",
      "1.12254    1\n",
      "1.18498    1\n",
      "1.14723    1\n",
      "0.59325    1\n",
      "0.20868    1\n",
      "Name: count, Length: 158, dtype: int64\n",
      "\n",
      "\n",
      "Family\n",
      "1.34951    1\n",
      "0.43106    1\n",
      "0.92933    1\n",
      "0.80001    1\n",
      "1.20215    1\n",
      "          ..\n",
      "1.12241    1\n",
      "1.27385    1\n",
      "1.25745    1\n",
      "1.14184    1\n",
      "0.13995    1\n",
      "Name: count, Length: 158, dtype: int64\n",
      "\n",
      "\n",
      "Health (Life Expectancy)\n",
      "0.92356    2\n",
      "0.94143    1\n",
      "0.60268    1\n",
      "0.88213    1\n",
      "0.83947    1\n",
      "          ..\n",
      "0.66098    1\n",
      "0.64368    1\n",
      "0.87337    1\n",
      "0.73128    1\n",
      "0.28443    1\n",
      "Name: count, Length: 157, dtype: int64\n",
      "\n",
      "\n",
      "Freedom\n",
      "0.66557    1\n",
      "0.40820    1\n",
      "0.07699    1\n",
      "0.33916    1\n",
      "0.32112    1\n",
      "          ..\n",
      "0.51649    1\n",
      "0.60855    1\n",
      "0.21342    1\n",
      "0.55475    1\n",
      "0.36453    1\n",
      "Name: count, Length: 158, dtype: int64\n",
      "\n",
      "\n",
      "Trust (Government Corruption)\n",
      "0.32524    2\n",
      "0.07625    1\n",
      "0.01397    1\n",
      "0.04582    1\n",
      "0.02758    1\n",
      "          ..\n",
      "0.03787    1\n",
      "0.01031    1\n",
      "0.19317    1\n",
      "0.05989    1\n",
      "0.10731    1\n",
      "Name: count, Length: 157, dtype: int64\n",
      "\n",
      "\n",
      "Generosity\n",
      "0.29678    1\n",
      "0.21222    1\n",
      "0.00000    1\n",
      "0.21854    1\n",
      "0.12800    1\n",
      "          ..\n",
      "0.11827    1\n",
      "0.25328    1\n",
      "0.02641    1\n",
      "0.27815    1\n",
      "0.16681    1\n",
      "Name: count, Length: 158, dtype: int64\n",
      "\n",
      "\n",
      "Dystopia Residual\n",
      "2.51738    1\n",
      "2.51767    1\n",
      "1.80101    1\n",
      "1.57059    1\n",
      "1.24074    1\n",
      "          ..\n",
      "2.24729    1\n",
      "1.61583    1\n",
      "2.44649    1\n",
      "2.32407    1\n",
      "1.56726    1\n",
      "Name: count, Length: 158, dtype: int64\n",
      "\n",
      "\n"
     ]
    }
   ],
   "source": [
    "for i in df.columns:\n",
    "    print (df[i].value_counts())\n",
    "    print (\"\\n\")"
   ]
  },
  {
   "cell_type": "code",
   "execution_count": 14,
   "id": "c300c8f7",
   "metadata": {},
   "outputs": [
    {
     "data": {
      "text/plain": [
       "array([7.587, 7.561, 7.527, 7.522, 7.427, 7.406, 7.378, 7.364, 7.286,\n",
       "       7.284, 7.278, 7.226, 7.2  , 7.187, 7.119, 6.983, 6.946, 6.94 ,\n",
       "       6.937, 6.901, 6.867, 6.853, 6.81 , 6.798, 6.786, 6.75 , 6.67 ,\n",
       "       6.611, 6.575, 6.574, 6.505, 6.485, 6.477, 6.455, 6.411, 6.329,\n",
       "       6.302, 6.298, 6.295, 6.269, 6.168, 6.13 , 6.123, 6.003, 5.995,\n",
       "       5.987, 5.984, 5.975, 5.96 , 5.948, 5.89 , 5.889, 5.878, 5.855,\n",
       "       5.848, 5.833, 5.828, 5.824, 5.813, 5.791, 5.77 , 5.759, 5.754,\n",
       "       5.716, 5.709, 5.695, 5.689, 5.605, 5.589, 5.548, 5.477, 5.474,\n",
       "       5.429, 5.399, 5.36 , 5.332, 5.286, 5.268, 5.253, 5.212, 5.194,\n",
       "       5.192, 5.14 , 5.129, 5.124, 5.123, 5.102, 5.098, 5.073, 5.057,\n",
       "       5.013, 5.007, 4.971, 4.959, 4.949, 4.898, 4.885, 4.876, 4.874,\n",
       "       4.867, 4.857, 4.839, 4.8  , 4.788, 4.786, 4.739, 4.715, 4.694,\n",
       "       4.686, 4.681, 4.677, 4.642, 4.633, 4.61 , 4.571, 4.565, 4.55 ,\n",
       "       4.518, 4.517, 4.514, 4.512, 4.507, 4.436, 4.419, 4.369, 4.35 ,\n",
       "       4.332, 4.307, 4.297, 4.292, 4.271, 4.252, 4.218, 4.194, 4.077,\n",
       "       4.033, 3.995, 3.989, 3.956, 3.931, 3.904, 3.896, 3.845, 3.819,\n",
       "       3.781, 3.681, 3.678, 3.667, 3.656, 3.655, 3.587, 3.575, 3.465,\n",
       "       3.34 , 3.006, 2.905, 2.839])"
      ]
     },
     "execution_count": 14,
     "metadata": {},
     "output_type": "execute_result"
    }
   ],
   "source": [
    "df['Happiness Score'].unique()"
   ]
  },
  {
   "cell_type": "code",
   "execution_count": 18,
   "id": "0d8166c7",
   "metadata": {},
   "outputs": [
    {
     "data": {
      "text/plain": [
       "Happiness Score\n",
       "5.192    2\n",
       "7.587    1\n",
       "4.686    1\n",
       "4.839    1\n",
       "4.800    1\n",
       "        ..\n",
       "5.855    1\n",
       "5.848    1\n",
       "5.833    1\n",
       "5.828    1\n",
       "2.839    1\n",
       "Name: count, Length: 157, dtype: int64"
      ]
     },
     "execution_count": 18,
     "metadata": {},
     "output_type": "execute_result"
    }
   ],
   "source": [
    "df['Happiness Score'].value_counts()"
   ]
  },
  {
   "cell_type": "code",
   "execution_count": 27,
   "id": "bc491695",
   "metadata": {},
   "outputs": [
    {
     "name": "stdout",
     "output_type": "stream",
     "text": [
      "First few entries of the target variable 'Happiness score':\n"
     ]
    }
   ],
   "source": [
    "print(\"First few entries of the target variable 'Happiness score':\")"
   ]
  },
  {
   "cell_type": "code",
   "execution_count": 30,
   "id": "9f7b0075",
   "metadata": {},
   "outputs": [
    {
     "data": {
      "text/plain": [
       "0    7.587\n",
       "1    7.561\n",
       "2    7.527\n",
       "3    7.522\n",
       "4    7.427\n",
       "Name: Happiness Score, dtype: float64"
      ]
     },
     "execution_count": 30,
     "metadata": {},
     "output_type": "execute_result"
    }
   ],
   "source": [
    "df['Happiness Score'].head()"
   ]
  },
  {
   "cell_type": "code",
   "execution_count": 69,
   "id": "2662d873",
   "metadata": {},
   "outputs": [
    {
     "name": "stdout",
     "output_type": "stream",
     "text": [
      "       Happiness Rank  Happiness Score  Standard Error  \\\n",
      "count      158.000000       158.000000      158.000000   \n",
      "mean        79.493671         5.375734        0.047885   \n",
      "std         45.754363         1.145010        0.017146   \n",
      "min          1.000000         2.839000        0.018480   \n",
      "25%         40.250000         4.526000        0.037268   \n",
      "50%         79.500000         5.232500        0.043940   \n",
      "75%        118.750000         6.243750        0.052300   \n",
      "max        158.000000         7.587000        0.136930   \n",
      "\n",
      "       Economy (GDP per Capita)      Family  Health (Life Expectancy)  \\\n",
      "count                158.000000  158.000000                158.000000   \n",
      "mean                   0.846137    0.991046                  0.630259   \n",
      "std                    0.403121    0.272369                  0.247078   \n",
      "min                    0.000000    0.000000                  0.000000   \n",
      "25%                    0.545808    0.856823                  0.439185   \n",
      "50%                    0.910245    1.029510                  0.696705   \n",
      "75%                    1.158448    1.214405                  0.811013   \n",
      "max                    1.690420    1.402230                  1.025250   \n",
      "\n",
      "          Freedom  Trust (Government Corruption)  Generosity  \\\n",
      "count  158.000000                     158.000000  158.000000   \n",
      "mean     0.428615                       0.143422    0.237296   \n",
      "std      0.150693                       0.120034    0.126685   \n",
      "min      0.000000                       0.000000    0.000000   \n",
      "25%      0.328330                       0.061675    0.150553   \n",
      "50%      0.435515                       0.107220    0.216130   \n",
      "75%      0.549092                       0.180255    0.309883   \n",
      "max      0.669730                       0.551910    0.795880   \n",
      "\n",
      "       Dystopia Residual  \n",
      "count         158.000000  \n",
      "mean            2.098977  \n",
      "std             0.553550  \n",
      "min             0.328580  \n",
      "25%             1.759410  \n",
      "50%             2.095415  \n",
      "75%             2.462415  \n",
      "max             3.602140  \n"
     ]
    }
   ],
   "source": [
    "print(df.describe())"
   ]
  },
  {
   "cell_type": "markdown",
   "id": "1c8ca8b0",
   "metadata": {},
   "source": [
    "1. The mean Happiness Score is 5.375734, indicating the average level of happiness across the dataset, while the standard deviation of 1.145010 suggests the variability or dispersion of happiness scores around the mean.\n",
    "2. The minimum Happiness Score is 2.839 and the maximum is 7.587, providing an understanding of the full range of happiness levels observed in the dataset.\n",
    "3. the 25th percentile (Q1) of the Happiness Score is 4.526, meaning that 25% of the countries have a happiness score below this value, while the 75th percentile (Q3) is 6.24375, indicating that 75% of the countries have a happiness score below this value"
   ]
  },
  {
   "cell_type": "code",
   "execution_count": 31,
   "id": "e780ee1c",
   "metadata": {},
   "outputs": [
    {
     "data": {
      "text/plain": [
       "count    158.000000\n",
       "mean       5.375734\n",
       "std        1.145010\n",
       "min        2.839000\n",
       "25%        4.526000\n",
       "50%        5.232500\n",
       "75%        6.243750\n",
       "max        7.587000\n",
       "Name: Happiness Score, dtype: float64"
      ]
     },
     "execution_count": 31,
     "metadata": {},
     "output_type": "execute_result"
    }
   ],
   "source": [
    "df['Happiness Score'].describe()"
   ]
  },
  {
   "cell_type": "code",
   "execution_count": 37,
   "id": "7b68ebd0",
   "metadata": {},
   "outputs": [],
   "source": [
    "df.columns = df.columns.str.strip()"
   ]
  },
  {
   "cell_type": "code",
   "execution_count": 68,
   "id": "3bf140aa",
   "metadata": {
    "scrolled": false
   },
   "outputs": [
    {
     "data": {
      "image/png": "[encoded data removed]",
      "text/plain": [
       "<Figure size 800x600 with 1 Axes>"
      ]
     },
     "metadata": {},
     "output_type": "display_data"
    }
   ],
   "source": [
    "plt.figure(figsize=(8, 6))\n",
    "plt.hist('Happiness Score', bins=20, color='purple', edgecolor='black')\n",
    "plt.xlabel('Happiness Score')\n",
    "plt.ylabel('Frequency')\n",
    "plt.title('Histogram of Happiness Score')\n",
    "plt.show()"
   ]
  },
  {
   "cell_type": "code",
   "execution_count": 74,
   "id": "395aae24",
   "metadata": {},
   "outputs": [
    {
     "name": "stdout",
     "output_type": "stream",
     "text": [
      "Happiness Score\n",
      "5.192    2\n",
      "7.587    1\n",
      "4.686    1\n",
      "4.839    1\n",
      "4.800    1\n",
      "        ..\n",
      "5.855    1\n",
      "5.848    1\n",
      "5.833    1\n",
      "5.828    1\n",
      "2.839    1\n",
      "Name: count, Length: 157, dtype: int64\n"
     ]
    },
    {
     "data": {
      "image/png": "[encoded data removed]",
      "text/plain": [
       "<Figure size 640x480 with 1 Axes>"
      ]
     },
     "metadata": {},
     "output_type": "display_data"
    }
   ],
   "source": [
    "ax =sns.countplot(x='Happiness Score', data=df)\n",
    "print(df['Happiness Score'].value_counts())"
   ]
  },
  {
   "cell_type": "code",
   "execution_count": 76,
   "id": "ca8e61e1",
   "metadata": {},
   "outputs": [
    {
     "name": "stdout",
     "output_type": "stream",
     "text": [
      "Family\n",
      "1.34951    1\n",
      "0.43106    1\n",
      "0.92933    1\n",
      "0.80001    1\n",
      "1.20215    1\n",
      "          ..\n",
      "1.12241    1\n",
      "1.27385    1\n",
      "1.25745    1\n",
      "1.14184    1\n",
      "0.13995    1\n",
      "Name: count, Length: 158, dtype: int64\n",
      "Family\n",
      "1.34951    1\n",
      "0.43106    1\n",
      "0.92933    1\n",
      "0.80001    1\n",
      "1.20215    1\n",
      "          ..\n",
      "1.12241    1\n",
      "1.27385    1\n",
      "1.25745    1\n",
      "1.14184    1\n",
      "0.13995    1\n",
      "Name: count, Length: 158, dtype: int64\n"
     ]
    },
    {
     "data": {
      "image/png": "[encoded data removed]",
      "text/plain": [
       "<Figure size 640x480 with 1 Axes>"
      ]
     },
     "metadata": {},
     "output_type": "display_data"
    }
   ],
   "source": [
    "print(df['Family'].value_counts())\n",
    "ax =sns.countplot(x='Family', data=df)\n",
    "print(df['Family'].value_counts())"
   ]
  },
  {
   "cell_type": "code",
   "execution_count": 85,
   "id": "22c08709",
   "metadata": {},
   "outputs": [],
   "source": [
    "df.features = ['GDP per Capita', 'Family', 'Life Expectancy', 'Freedom', 'Generosity', 'Trust Government Corruption']"
   ]
  },
  {
   "cell_type": "code",
   "execution_count": 100,
   "id": "e24eb1f1",
   "metadata": {},
   "outputs": [],
   "source": [
    "from sklearn.model_selection import train_test_split\n",
    "x = df.features\n",
    "y = df['Happiness Score']"
   ]
  },
  {
   "cell_type": "code",
   "execution_count": 107,
   "id": "a66a6567",
   "metadata": {},
   "outputs": [],
   "source": [
    "X = df.drop(['Happiness Score'], axis=1)\n",
    "y = df['Happiness Score']"
   ]
  },
  {
   "cell_type": "code",
   "execution_count": 125,
   "id": "e0cc037b",
   "metadata": {},
   "outputs": [],
   "source": [
    "from sklearn.model_selection import train_test_split\n",
    "X_train, X_test, y_train, y_test = train_test_split(X, y, test_size=0.2, random_state=42)"
   ]
  },
  {
   "cell_type": "code",
   "execution_count": 154,
   "id": "ce18e08f",
   "metadata": {},
   "outputs": [
    {
     "name": "stdout",
     "output_type": "stream",
     "text": [
      "Happiness Rank                 int64\n",
      "Standard Error               float64\n",
      "Economy (GDP per Capita)     float64\n",
      "Family                       float64\n",
      "Health (Life Expectancy)     float64\n",
      "                              ...   \n",
      "Region_North America            bool\n",
      "Region_Southeastern Asia        bool\n",
      "Region_Southern Asia            bool\n",
      "Region_Sub-Saharan Africa       bool\n",
      "Region_Western Europe           bool\n",
      "Length: 177, dtype: object\n"
     ]
    }
   ],
   "source": [
    "from sklearn.linear_model import LinearRegression\n",
    "from sklearn.ensemble import HistGradientBoostingRegressor\n",
    "from sklearn.metrics import mean_squared_error, r2_score\n",
    "print(X_train.dtypes)"
   ]
  },
  {
   "cell_type": "code",
   "execution_count": 115,
   "id": "374e57a8",
   "metadata": {},
   "outputs": [
    {
     "name": "stdout",
     "output_type": "stream",
     "text": [
      "Categorical Columns: Index(['Country', 'Region'], dtype='object')\n"
     ]
    }
   ],
   "source": [
    "categorical_columns = df.select_dtypes(include=['object']).columns\n",
    "print(\"Categorical Columns:\", categorical_columns)"
   ]
  },
  {
   "cell_type": "code",
   "execution_count": 119,
   "id": "8db47304",
   "metadata": {},
   "outputs": [],
   "source": [
    "from sklearn.preprocessing import LabelEncoder\n",
    "categorical_columns = X_train.select_dtypes(include=['object']).columns\n",
    "label_encoder = LabelEncoder()\n",
    "for column in categorical_columns:\n",
    "    X_train[column] = label_encoder.fit_transform(X_train[column])\n",
    "for column in categorical_columns:\n",
    "    X_test[column] = label_encoder.transform(X_test[column])"
   ]
  },
  {
   "cell_type": "code",
   "execution_count": 120,
   "id": "20d15140",
   "metadata": {},
   "outputs": [
    {
     "data": {
      "text/html": [
       "<style>#sk-container-id-1 {color: black;}#sk-container-id-1 pre{padding: 0;}#sk-container-id-1 div.sk-toggleable {background-color: white;}#sk-container-id-1 label.sk-toggleable__label {cursor: pointer;display: block;width: 100%;margin-bottom: 0;padding: 0.3em;box-sizing: border-box;text-align: center;}#sk-container-id-1 label.sk-toggleable__label-arrow:before {content: \"▸\";float: left;margin-right: 0.25em;color: #696969;}#sk-container-id-1 label.sk-toggleable__label-arrow:hover:before {color: black;}#sk-container-id-1 div.sk-estimator:hover label.sk-toggleable__label-arrow:before {color: black;}#sk-container-id-1 div.sk-toggleable__content {max-height: 0;max-width: 0;overflow: hidden;text-align: left;background-color: #f0f8ff;}#sk-container-id-1 div.sk-toggleable__content pre {margin: 0.2em;color: black;border-radius: 0.25em;background-color: #f0f8ff;}#sk-container-id-1 input.sk-toggleable__control:checked~div.sk-toggleable__content {max-height: 200px;max-width: 100%;overflow: auto;}#sk-container-id-1 input.sk-toggleable__control:checked~label.sk-toggleable__label-arrow:before {content: \"▾\";}#sk-container-id-1 div.sk-estimator input.sk-toggleable__control:checked~label.sk-toggleable__label {background-color: #d4ebff;}#sk-container-id-1 div.sk-label input.sk-toggleable__control:checked~label.sk-toggleable__label {background-color: #d4ebff;}#sk-container-id-1 input.sk-hidden--visually {border: 0;clip: rect(1px 1px 1px 1px);clip: rect(1px, 1px, 1px, 1px);height: 1px;margin: -1px;overflow: hidden;padding: 0;position: absolute;width: 1px;}#sk-container-id-1 div.sk-estimator {font-family: monospace;background-color: #f0f8ff;border: 1px dotted black;border-radius: 0.25em;box-sizing: border-box;margin-bottom: 0.5em;}#sk-container-id-1 div.sk-estimator:hover {background-color: #d4ebff;}#sk-container-id-1 div.sk-parallel-item::after {content: \"\";width: 100%;border-bottom: 1px solid gray;flex-grow: 1;}#sk-container-id-1 div.sk-label:hover label.sk-toggleable__label {background-color: #d4ebff;}#sk-container-id-1 div.sk-serial::before {content: \"\";position: absolute;border-left: 1px solid gray;box-sizing: border-box;top: 0;bottom: 0;left: 50%;z-index: 0;}#sk-container-id-1 div.sk-serial {display: flex;flex-direction: column;align-items: center;background-color: white;padding-right: 0.2em;padding-left: 0.2em;position: relative;}#sk-container-id-1 div.sk-item {position: relative;z-index: 1;}#sk-container-id-1 div.sk-parallel {display: flex;align-items: stretch;justify-content: center;background-color: white;position: relative;}#sk-container-id-1 div.sk-item::before, #sk-container-id-1 div.sk-parallel-item::before {content: \"\";position: absolute;border-left: 1px solid gray;box-sizing: border-box;top: 0;bottom: 0;left: 50%;z-index: -1;}#sk-container-id-1 div.sk-parallel-item {display: flex;flex-direction: column;z-index: 1;position: relative;background-color: white;}#sk-container-id-1 div.sk-parallel-item:first-child::after {align-self: flex-end;width: 50%;}#sk-container-id-1 div.sk-parallel-item:last-child::after {align-self: flex-start;width: 50%;}#sk-container-id-1 div.sk-parallel-item:only-child::after {width: 0;}#sk-container-id-1 div.sk-dashed-wrapped {border: 1px dashed gray;margin: 0 0.4em 0.5em 0.4em;box-sizing: border-box;padding-bottom: 0.4em;background-color: white;}#sk-container-id-1 div.sk-label label {font-family: monospace;font-weight: bold;display: inline-block;line-height: 1.2em;}#sk-container-id-1 div.sk-label-container {text-align: center;}#sk-container-id-1 div.sk-container {/* jupyter's `normalize.less` sets `[hidden] { display: none; }` but bootstrap.min.css set `[hidden] { display: none !important; }` so we also need the `!important` here to be able to override the default hidden behavior on the sphinx rendered scikit-learn.org. See: https://github.com/scikit-learn/scikit-learn/issues/21755 */display: inline-block !important;position: relative;}#sk-container-id-1 div.sk-text-repr-fallback {display: none;}</style><div id=\"sk-container-id-1\" class=\"sk-top-container\"><div class=\"sk-text-repr-fallback\"><pre>LinearRegression()</pre><b>In a Jupyter environment, please rerun this cell to show the HTML representation or trust the notebook. <br />On GitHub, the HTML representation is unable to render, please try loading this page with nbviewer.org.</b></div><div class=\"sk-container\" hidden><div class=\"sk-item\"><div class=\"sk-estimator sk-toggleable\"><input class=\"sk-toggleable__control sk-hidden--visually\" id=\"sk-estimator-id-1\" type=\"checkbox\" checked><label for=\"sk-estimator-id-1\" class=\"sk-toggleable__label sk-toggleable__label-arrow\">LinearRegression</label><div class=\"sk-toggleable__content\"><pre>LinearRegression()</pre></div></div></div></div></div>"
      ],
      "text/plain": [
       "LinearRegression()"
      ]
     },
     "execution_count": 120,
     "metadata": {},
     "output_type": "execute_result"
    }
   ],
   "source": [
    "model = LinearRegression()\n",
    "model.fit(X_train, y_train)"
   ]
  },
  {
   "cell_type": "code",
   "execution_count": 126,
   "id": "aa1fe0a1",
   "metadata": {
    "scrolled": true
   },
   "outputs": [
    {
     "name": "stdout",
     "output_type": "stream",
     "text": [
      "Happiness Rank                 int64\n",
      "Standard Error               float64\n",
      "Economy (GDP per Capita)     float64\n",
      "Family                       float64\n",
      "Health (Life Expectancy)     float64\n",
      "                              ...   \n",
      "Region_North America            bool\n",
      "Region_Southeastern Asia        bool\n",
      "Region_Southern Asia            bool\n",
      "Region_Sub-Saharan Africa       bool\n",
      "Region_Western Europe           bool\n",
      "Length: 177, dtype: object\n"
     ]
    }
   ],
   "source": [
    "print(X_test.dtypes)"
   ]
  },
  {
   "cell_type": "code",
   "execution_count": 127,
   "id": "5c1d43cc",
   "metadata": {},
   "outputs": [
    {
     "name": "stdout",
     "output_type": "stream",
     "text": [
      "Non-Numeric Columns: Index(['Country_Afghanistan', 'Country_Albania', 'Country_Algeria',\n",
      "       'Country_Angola', 'Country_Argentina', 'Country_Armenia',\n",
      "       'Country_Australia', 'Country_Austria', 'Country_Azerbaijan',\n",
      "       'Country_Bahrain',\n",
      "       ...\n",
      "       'Region_Australia and New Zealand', 'Region_Central and Eastern Europe',\n",
      "       'Region_Eastern Asia', 'Region_Latin America and Caribbean',\n",
      "       'Region_Middle East and Northern Africa', 'Region_North America',\n",
      "       'Region_Southeastern Asia', 'Region_Southern Asia',\n",
      "       'Region_Sub-Saharan Africa', 'Region_Western Europe'],\n",
      "      dtype='object', length=168)\n"
     ]
    }
   ],
   "source": [
    "non_numeric_columns = X_test.select_dtypes(exclude=['number']).columns\n",
    "print(\"Non-Numeric Columns:\", non_numeric_columns)"
   ]
  },
  {
   "cell_type": "code",
   "execution_count": 133,
   "id": "2d38b215",
   "metadata": {},
   "outputs": [],
   "source": [
    "from sklearn.preprocessing import OneHotEncoder\n",
    "categorical_columns = X_test.select_dtypes(include=['object']).columns\n",
    "onehot_encoder = OneHotEncoder(sparse=False, drop='first')\n",
    "onehot_encoder.fit(X_train[categorical_columns])\n",
    "X_test_encoded = onehot_encoder.transform(X_test[categorical_columns])\n",
    "X_test_encoded_df = pd.DataFrame(X_test_encoded, columns=onehot_encoder.get_feature_names_out(categorical_columns))\n",
    "X_test_final = pd.concat([X_test, X_test_encoded_df], axis=1)"
   ]
  },
  {
   "cell_type": "code",
   "execution_count": 139,
   "id": "d5d33290",
   "metadata": {},
   "outputs": [],
   "source": [
    "feature_names_train = X_train.columns\n",
    "feature_names_test = X_test_final_aligned.columns\n",
    "missing_features = set(feature_names_train) - set(feature_names_test)\n",
    "for feature in missing_features:\n",
    "    X_test_final_aligned[feature] = 0\n"
   ]
  },
  {
   "cell_type": "code",
   "execution_count": 149,
   "id": "dfed5997",
   "metadata": {},
   "outputs": [
    {
     "name": "stdout",
     "output_type": "stream",
     "text": [
      "Columns in X_train_dummies: Index(['Happiness Rank', 'Standard Error', 'Economy (GDP per Capita)',\n",
      "       'Family', 'Health (Life Expectancy)', 'Freedom',\n",
      "       'Trust (Government Corruption)', 'Generosity', 'Dystopia Residual',\n",
      "       'Country_Afghanistan',\n",
      "       ...\n",
      "       'Region_Australia and New Zealand', 'Region_Central and Eastern Europe',\n",
      "       'Region_Eastern Asia', 'Region_Latin America and Caribbean',\n",
      "       'Region_Middle East and Northern Africa', 'Region_North America',\n",
      "       'Region_Southeastern Asia', 'Region_Southern Asia',\n",
      "       'Region_Sub-Saharan Africa', 'Region_Western Europe'],\n",
      "      dtype='object', length=177)\n",
      "Columns in X_test_dummies: Index(['Happiness Rank', 'Standard Error', 'Economy (GDP per Capita)',\n",
      "       'Family', 'Health (Life Expectancy)', 'Freedom',\n",
      "       'Trust (Government Corruption)', 'Generosity', 'Dystopia Residual',\n",
      "       'Country_Afghanistan_False',\n",
      "       ...\n",
      "       'Region_Middle East and Northern Africa_False',\n",
      "       'Region_Middle East and Northern Africa_True',\n",
      "       'Region_North America_False', 'Region_Southeastern Asia_False',\n",
      "       'Region_Southeastern Asia_True', 'Region_Southern Asia_False',\n",
      "       'Region_Sub-Saharan Africa_False', 'Region_Sub-Saharan Africa_True',\n",
      "       'Region_Western Europe_False', 'Region_Western Europe_True'],\n",
      "      dtype='object', length=217)\n"
     ]
    }
   ],
   "source": [
    "X_train_dummies = pd.get_dummies(X_train)\n",
    "X_test_dummies = pd.get_dummies(X_test_final)\n",
    "print(\"Columns in X_train_dummies:\", X_train_dummies.columns)\n",
    "print(\"Columns in X_test_dummies:\", X_test_dummies.columns)"
   ]
  },
  {
   "cell_type": "code",
   "execution_count": 150,
   "id": "04bf27d3",
   "metadata": {},
   "outputs": [],
   "source": [
    "X_train_final, X_test_final_aligned = X_train_dummies.align(X_test_dummies, join='left', axis=1, fill_value=0)"
   ]
  },
  {
   "cell_type": "code",
   "execution_count": 151,
   "id": "06c4d0af",
   "metadata": {},
   "outputs": [
    {
     "name": "stdout",
     "output_type": "stream",
     "text": [
      "Columns in aligned X_train_final: Index(['Happiness Rank', 'Standard Error', 'Economy (GDP per Capita)',\n",
      "       'Family', 'Health (Life Expectancy)', 'Freedom',\n",
      "       'Trust (Government Corruption)', 'Generosity', 'Dystopia Residual',\n",
      "       'Country_Afghanistan',\n",
      "       ...\n",
      "       'Region_Australia and New Zealand', 'Region_Central and Eastern Europe',\n",
      "       'Region_Eastern Asia', 'Region_Latin America and Caribbean',\n",
      "       'Region_Middle East and Northern Africa', 'Region_North America',\n",
      "       'Region_Southeastern Asia', 'Region_Southern Asia',\n",
      "       'Region_Sub-Saharan Africa', 'Region_Western Europe'],\n",
      "      dtype='object', length=177)\n",
      "Columns in aligned X_test_final_aligned: Index(['Happiness Rank', 'Standard Error', 'Economy (GDP per Capita)',\n",
      "       'Family', 'Health (Life Expectancy)', 'Freedom',\n",
      "       'Trust (Government Corruption)', 'Generosity', 'Dystopia Residual',\n",
      "       'Country_Afghanistan',\n",
      "       ...\n",
      "       'Region_Australia and New Zealand', 'Region_Central and Eastern Europe',\n",
      "       'Region_Eastern Asia', 'Region_Latin America and Caribbean',\n",
      "       'Region_Middle East and Northern Africa', 'Region_North America',\n",
      "       'Region_Southeastern Asia', 'Region_Southern Asia',\n",
      "       'Region_Sub-Saharan Africa', 'Region_Western Europe'],\n",
      "      dtype='object', length=177)\n"
     ]
    }
   ],
   "source": [
    "print(\"Columns in aligned X_train_final:\", X_train_final.columns)\n",
    "print(\"Columns in aligned X_test_final_aligned:\", X_test_final_aligned.columns)"
   ]
  },
  {
   "cell_type": "code",
   "execution_count": 152,
   "id": "7bf4e630",
   "metadata": {},
   "outputs": [
    {
     "data": {
      "text/html": [
       "<style>#sk-container-id-3 {color: black;}#sk-container-id-3 pre{padding: 0;}#sk-container-id-3 div.sk-toggleable {background-color: white;}#sk-container-id-3 label.sk-toggleable__label {cursor: pointer;display: block;width: 100%;margin-bottom: 0;padding: 0.3em;box-sizing: border-box;text-align: center;}#sk-container-id-3 label.sk-toggleable__label-arrow:before {content: \"▸\";float: left;margin-right: 0.25em;color: #696969;}#sk-container-id-3 label.sk-toggleable__label-arrow:hover:before {color: black;}#sk-container-id-3 div.sk-estimator:hover label.sk-toggleable__label-arrow:before {color: black;}#sk-container-id-3 div.sk-toggleable__content {max-height: 0;max-width: 0;overflow: hidden;text-align: left;background-color: #f0f8ff;}#sk-container-id-3 div.sk-toggleable__content pre {margin: 0.2em;color: black;border-radius: 0.25em;background-color: #f0f8ff;}#sk-container-id-3 input.sk-toggleable__control:checked~div.sk-toggleable__content {max-height: 200px;max-width: 100%;overflow: auto;}#sk-container-id-3 input.sk-toggleable__control:checked~label.sk-toggleable__label-arrow:before {content: \"▾\";}#sk-container-id-3 div.sk-estimator input.sk-toggleable__control:checked~label.sk-toggleable__label {background-color: #d4ebff;}#sk-container-id-3 div.sk-label input.sk-toggleable__control:checked~label.sk-toggleable__label {background-color: #d4ebff;}#sk-container-id-3 input.sk-hidden--visually {border: 0;clip: rect(1px 1px 1px 1px);clip: rect(1px, 1px, 1px, 1px);height: 1px;margin: -1px;overflow: hidden;padding: 0;position: absolute;width: 1px;}#sk-container-id-3 div.sk-estimator {font-family: monospace;background-color: #f0f8ff;border: 1px dotted black;border-radius: 0.25em;box-sizing: border-box;margin-bottom: 0.5em;}#sk-container-id-3 div.sk-estimator:hover {background-color: #d4ebff;}#sk-container-id-3 div.sk-parallel-item::after {content: \"\";width: 100%;border-bottom: 1px solid gray;flex-grow: 1;}#sk-container-id-3 div.sk-label:hover label.sk-toggleable__label {background-color: #d4ebff;}#sk-container-id-3 div.sk-serial::before {content: \"\";position: absolute;border-left: 1px solid gray;box-sizing: border-box;top: 0;bottom: 0;left: 50%;z-index: 0;}#sk-container-id-3 div.sk-serial {display: flex;flex-direction: column;align-items: center;background-color: white;padding-right: 0.2em;padding-left: 0.2em;position: relative;}#sk-container-id-3 div.sk-item {position: relative;z-index: 1;}#sk-container-id-3 div.sk-parallel {display: flex;align-items: stretch;justify-content: center;background-color: white;position: relative;}#sk-container-id-3 div.sk-item::before, #sk-container-id-3 div.sk-parallel-item::before {content: \"\";position: absolute;border-left: 1px solid gray;box-sizing: border-box;top: 0;bottom: 0;left: 50%;z-index: -1;}#sk-container-id-3 div.sk-parallel-item {display: flex;flex-direction: column;z-index: 1;position: relative;background-color: white;}#sk-container-id-3 div.sk-parallel-item:first-child::after {align-self: flex-end;width: 50%;}#sk-container-id-3 div.sk-parallel-item:last-child::after {align-self: flex-start;width: 50%;}#sk-container-id-3 div.sk-parallel-item:only-child::after {width: 0;}#sk-container-id-3 div.sk-dashed-wrapped {border: 1px dashed gray;margin: 0 0.4em 0.5em 0.4em;box-sizing: border-box;padding-bottom: 0.4em;background-color: white;}#sk-container-id-3 div.sk-label label {font-family: monospace;font-weight: bold;display: inline-block;line-height: 1.2em;}#sk-container-id-3 div.sk-label-container {text-align: center;}#sk-container-id-3 div.sk-container {/* jupyter's `normalize.less` sets `[hidden] { display: none; }` but bootstrap.min.css set `[hidden] { display: none !important; }` so we also need the `!important` here to be able to override the default hidden behavior on the sphinx rendered scikit-learn.org. See: https://github.com/scikit-learn/scikit-learn/issues/21755 */display: inline-block !important;position: relative;}#sk-container-id-3 div.sk-text-repr-fallback {display: none;}</style><div id=\"sk-container-id-3\" class=\"sk-top-container\"><div class=\"sk-text-repr-fallback\"><pre>LinearRegression()</pre><b>In a Jupyter environment, please rerun this cell to show the HTML representation or trust the notebook. <br />On GitHub, the HTML representation is unable to render, please try loading this page with nbviewer.org.</b></div><div class=\"sk-container\" hidden><div class=\"sk-item\"><div class=\"sk-estimator sk-toggleable\"><input class=\"sk-toggleable__control sk-hidden--visually\" id=\"sk-estimator-id-3\" type=\"checkbox\" checked><label for=\"sk-estimator-id-3\" class=\"sk-toggleable__label sk-toggleable__label-arrow\">LinearRegression</label><div class=\"sk-toggleable__content\"><pre>LinearRegression()</pre></div></div></div></div></div>"
      ],
      "text/plain": [
       "LinearRegression()"
      ]
     },
     "execution_count": 152,
     "metadata": {},
     "output_type": "execute_result"
    }
   ],
   "source": [
    "model.fit(X_train_final, y_train)"
   ]
  },
  {
   "cell_type": "markdown",
   "id": "27dd5be1",
   "metadata": {},
   "source": [
    "Kept getting error message with Linear regression, dont know why"
   ]
  },
  {
   "cell_type": "code",
   "execution_count": 157,
   "id": "e3299f85",
   "metadata": {},
   "outputs": [
    {
     "data": {
      "text/html": [
       "<style>#sk-container-id-5 {color: black;}#sk-container-id-5 pre{padding: 0;}#sk-container-id-5 div.sk-toggleable {background-color: white;}#sk-container-id-5 label.sk-toggleable__label {cursor: pointer;display: block;width: 100%;margin-bottom: 0;padding: 0.3em;box-sizing: border-box;text-align: center;}#sk-container-id-5 label.sk-toggleable__label-arrow:before {content: \"▸\";float: left;margin-right: 0.25em;color: #696969;}#sk-container-id-5 label.sk-toggleable__label-arrow:hover:before {color: black;}#sk-container-id-5 div.sk-estimator:hover label.sk-toggleable__label-arrow:before {color: black;}#sk-container-id-5 div.sk-toggleable__content {max-height: 0;max-width: 0;overflow: hidden;text-align: left;background-color: #f0f8ff;}#sk-container-id-5 div.sk-toggleable__content pre {margin: 0.2em;color: black;border-radius: 0.25em;background-color: #f0f8ff;}#sk-container-id-5 input.sk-toggleable__control:checked~div.sk-toggleable__content {max-height: 200px;max-width: 100%;overflow: auto;}#sk-container-id-5 input.sk-toggleable__control:checked~label.sk-toggleable__label-arrow:before {content: \"▾\";}#sk-container-id-5 div.sk-estimator input.sk-toggleable__control:checked~label.sk-toggleable__label {background-color: #d4ebff;}#sk-container-id-5 div.sk-label input.sk-toggleable__control:checked~label.sk-toggleable__label {background-color: #d4ebff;}#sk-container-id-5 input.sk-hidden--visually {border: 0;clip: rect(1px 1px 1px 1px);clip: rect(1px, 1px, 1px, 1px);height: 1px;margin: -1px;overflow: hidden;padding: 0;position: absolute;width: 1px;}#sk-container-id-5 div.sk-estimator {font-family: monospace;background-color: #f0f8ff;border: 1px dotted black;border-radius: 0.25em;box-sizing: border-box;margin-bottom: 0.5em;}#sk-container-id-5 div.sk-estimator:hover {background-color: #d4ebff;}#sk-container-id-5 div.sk-parallel-item::after {content: \"\";width: 100%;border-bottom: 1px solid gray;flex-grow: 1;}#sk-container-id-5 div.sk-label:hover label.sk-toggleable__label {background-color: #d4ebff;}#sk-container-id-5 div.sk-serial::before {content: \"\";position: absolute;border-left: 1px solid gray;box-sizing: border-box;top: 0;bottom: 0;left: 50%;z-index: 0;}#sk-container-id-5 div.sk-serial {display: flex;flex-direction: column;align-items: center;background-color: white;padding-right: 0.2em;padding-left: 0.2em;position: relative;}#sk-container-id-5 div.sk-item {position: relative;z-index: 1;}#sk-container-id-5 div.sk-parallel {display: flex;align-items: stretch;justify-content: center;background-color: white;position: relative;}#sk-container-id-5 div.sk-item::before, #sk-container-id-5 div.sk-parallel-item::before {content: \"\";position: absolute;border-left: 1px solid gray;box-sizing: border-box;top: 0;bottom: 0;left: 50%;z-index: -1;}#sk-container-id-5 div.sk-parallel-item {display: flex;flex-direction: column;z-index: 1;position: relative;background-color: white;}#sk-container-id-5 div.sk-parallel-item:first-child::after {align-self: flex-end;width: 50%;}#sk-container-id-5 div.sk-parallel-item:last-child::after {align-self: flex-start;width: 50%;}#sk-container-id-5 div.sk-parallel-item:only-child::after {width: 0;}#sk-container-id-5 div.sk-dashed-wrapped {border: 1px dashed gray;margin: 0 0.4em 0.5em 0.4em;box-sizing: border-box;padding-bottom: 0.4em;background-color: white;}#sk-container-id-5 div.sk-label label {font-family: monospace;font-weight: bold;display: inline-block;line-height: 1.2em;}#sk-container-id-5 div.sk-label-container {text-align: center;}#sk-container-id-5 div.sk-container {/* jupyter's `normalize.less` sets `[hidden] { display: none; }` but bootstrap.min.css set `[hidden] { display: none !important; }` so we also need the `!important` here to be able to override the default hidden behavior on the sphinx rendered scikit-learn.org. See: https://github.com/scikit-learn/scikit-learn/issues/21755 */display: inline-block !important;position: relative;}#sk-container-id-5 div.sk-text-repr-fallback {display: none;}</style><div id=\"sk-container-id-5\" class=\"sk-top-container\"><div class=\"sk-text-repr-fallback\"><pre>HistGradientBoostingRegressor()</pre><b>In a Jupyter environment, please rerun this cell to show the HTML representation or trust the notebook. <br />On GitHub, the HTML representation is unable to render, please try loading this page with nbviewer.org.</b></div><div class=\"sk-container\" hidden><div class=\"sk-item\"><div class=\"sk-estimator sk-toggleable\"><input class=\"sk-toggleable__control sk-hidden--visually\" id=\"sk-estimator-id-5\" type=\"checkbox\" checked><label for=\"sk-estimator-id-5\" class=\"sk-toggleable__label sk-toggleable__label-arrow\">HistGradientBoostingRegressor</label><div class=\"sk-toggleable__content\"><pre>HistGradientBoostingRegressor()</pre></div></div></div></div></div>"
      ],
      "text/plain": [
       "HistGradientBoostingRegressor()"
      ]
     },
     "execution_count": 157,
     "metadata": {},
     "output_type": "execute_result"
    }
   ],
   "source": [
    "model = HistGradientBoostingRegressor()\n",
    "model.fit(X_train_final, y_train)"
   ]
  },
  {
   "cell_type": "code",
   "execution_count": 164,
   "id": "2743a028",
   "metadata": {},
   "outputs": [
    {
     "name": "stdout",
     "output_type": "stream",
     "text": [
      "Shape of X_test_final_aligned: (55, 177)\n",
      "Shape of y_test: (32,)\n"
     ]
    }
   ],
   "source": [
    "print(\"Shape of X_test_final_aligned:\", X_test_final_aligned.shape)\n",
    "print(\"Shape of y_test:\", y_test.shape)"
   ]
  },
  {
   "cell_type": "code",
   "execution_count": 166,
   "id": "40fa19e4",
   "metadata": {},
   "outputs": [
    {
     "name": "stdout",
     "output_type": "stream",
     "text": [
      "Shape of aligned X_test_final_aligned: (55, 177)\n"
     ]
    }
   ],
   "source": [
    "feature_names_train = X_train.columns\n",
    "X_test_final_aligned = X_test_final.reindex(columns=feature_names_train, fill_value=0)\n",
    "print(\"Shape of aligned X_test_final_aligned:\", X_test_final_aligned.shape)"
   ]
  },
  {
   "cell_type": "code",
   "execution_count": 169,
   "id": "c735c180",
   "metadata": {},
   "outputs": [
    {
     "name": "stdout",
     "output_type": "stream",
     "text": [
      "Shape of X_train: (126, 177)\n",
      "Shape of X_test: (32, 177)\n",
      "Shape of y_train: (126,)\n",
      "Shape of y_test: (32,)\n"
     ]
    }
   ],
   "source": [
    "print(\"Shape of X_train:\", X_train.shape)\n",
    "print(\"Shape of X_test:\", X_test.shape)\n",
    "print(\"Shape of y_train:\", y_train.shape)\n",
    "print(\"Shape of y_test:\", y_test.shape)"
   ]
  },
  {
   "cell_type": "code",
   "execution_count": 172,
   "id": "c994aca7",
   "metadata": {},
   "outputs": [
    {
     "name": "stdout",
     "output_type": "stream",
     "text": [
      "Shape of y_test: (32,)\n",
      "Shape of y_pred: (55,)\n"
     ]
    }
   ],
   "source": [
    "print(\"Shape of y_test:\", y_test.shape)\n",
    "print(\"Shape of y_pred:\", y_pred.shape)"
   ]
  },
  {
   "cell_type": "code",
   "execution_count": 176,
   "id": "7a6b4920",
   "metadata": {},
   "outputs": [],
   "source": [
    "y_pred_trimmed = y_pred[:len(y_test)]"
   ]
  },
  {
   "cell_type": "code",
   "execution_count": 178,
   "id": "a597e3a3",
   "metadata": {},
   "outputs": [
    {
     "name": "stdout",
     "output_type": "stream",
     "text": [
      "Mean Squared Error: 0.04208439716923701\n"
     ]
    }
   ],
   "source": [
    "mse = mean_squared_error(y_test, y_pred_trimmed)\n",
    "print(\"Mean Squared Error:\", mse)"
   ]
  },
  {
   "cell_type": "markdown",
   "id": "9950f5e1",
   "metadata": {},
   "source": [
    "MSE of 0.04208439716923701 suggests that the model is making reasonably accurate predictions"
   ]
  },
  {
   "cell_type": "code",
   "execution_count": 186,
   "id": "7b7425e6",
   "metadata": {},
   "outputs": [
    {
     "data": {
      "text/html": [
       "<style>#sk-container-id-7 {color: black;}#sk-container-id-7 pre{padding: 0;}#sk-container-id-7 div.sk-toggleable {background-color: white;}#sk-container-id-7 label.sk-toggleable__label {cursor: pointer;display: block;width: 100%;margin-bottom: 0;padding: 0.3em;box-sizing: border-box;text-align: center;}#sk-container-id-7 label.sk-toggleable__label-arrow:before {content: \"▸\";float: left;margin-right: 0.25em;color: #696969;}#sk-container-id-7 label.sk-toggleable__label-arrow:hover:before {color: black;}#sk-container-id-7 div.sk-estimator:hover label.sk-toggleable__label-arrow:before {color: black;}#sk-container-id-7 div.sk-toggleable__content {max-height: 0;max-width: 0;overflow: hidden;text-align: left;background-color: #f0f8ff;}#sk-container-id-7 div.sk-toggleable__content pre {margin: 0.2em;color: black;border-radius: 0.25em;background-color: #f0f8ff;}#sk-container-id-7 input.sk-toggleable__control:checked~div.sk-toggleable__content {max-height: 200px;max-width: 100%;overflow: auto;}#sk-container-id-7 input.sk-toggleable__control:checked~label.sk-toggleable__label-arrow:before {content: \"▾\";}#sk-container-id-7 div.sk-estimator input.sk-toggleable__control:checked~label.sk-toggleable__label {background-color: #d4ebff;}#sk-container-id-7 div.sk-label input.sk-toggleable__control:checked~label.sk-toggleable__label {background-color: #d4ebff;}#sk-container-id-7 input.sk-hidden--visually {border: 0;clip: rect(1px 1px 1px 1px);clip: rect(1px, 1px, 1px, 1px);height: 1px;margin: -1px;overflow: hidden;padding: 0;position: absolute;width: 1px;}#sk-container-id-7 div.sk-estimator {font-family: monospace;background-color: #f0f8ff;border: 1px dotted black;border-radius: 0.25em;box-sizing: border-box;margin-bottom: 0.5em;}#sk-container-id-7 div.sk-estimator:hover {background-color: #d4ebff;}#sk-container-id-7 div.sk-parallel-item::after {content: \"\";width: 100%;border-bottom: 1px solid gray;flex-grow: 1;}#sk-container-id-7 div.sk-label:hover label.sk-toggleable__label {background-color: #d4ebff;}#sk-container-id-7 div.sk-serial::before {content: \"\";position: absolute;border-left: 1px solid gray;box-sizing: border-box;top: 0;bottom: 0;left: 50%;z-index: 0;}#sk-container-id-7 div.sk-serial {display: flex;flex-direction: column;align-items: center;background-color: white;padding-right: 0.2em;padding-left: 0.2em;position: relative;}#sk-container-id-7 div.sk-item {position: relative;z-index: 1;}#sk-container-id-7 div.sk-parallel {display: flex;align-items: stretch;justify-content: center;background-color: white;position: relative;}#sk-container-id-7 div.sk-item::before, #sk-container-id-7 div.sk-parallel-item::before {content: \"\";position: absolute;border-left: 1px solid gray;box-sizing: border-box;top: 0;bottom: 0;left: 50%;z-index: -1;}#sk-container-id-7 div.sk-parallel-item {display: flex;flex-direction: column;z-index: 1;position: relative;background-color: white;}#sk-container-id-7 div.sk-parallel-item:first-child::after {align-self: flex-end;width: 50%;}#sk-container-id-7 div.sk-parallel-item:last-child::after {align-self: flex-start;width: 50%;}#sk-container-id-7 div.sk-parallel-item:only-child::after {width: 0;}#sk-container-id-7 div.sk-dashed-wrapped {border: 1px dashed gray;margin: 0 0.4em 0.5em 0.4em;box-sizing: border-box;padding-bottom: 0.4em;background-color: white;}#sk-container-id-7 div.sk-label label {font-family: monospace;font-weight: bold;display: inline-block;line-height: 1.2em;}#sk-container-id-7 div.sk-label-container {text-align: center;}#sk-container-id-7 div.sk-container {/* jupyter's `normalize.less` sets `[hidden] { display: none; }` but bootstrap.min.css set `[hidden] { display: none !important; }` so we also need the `!important` here to be able to override the default hidden behavior on the sphinx rendered scikit-learn.org. See: https://github.com/scikit-learn/scikit-learn/issues/21755 */display: inline-block !important;position: relative;}#sk-container-id-7 div.sk-text-repr-fallback {display: none;}</style><div id=\"sk-container-id-7\" class=\"sk-top-container\"><div class=\"sk-text-repr-fallback\"><pre>RandomForestRegressor()</pre><b>In a Jupyter environment, please rerun this cell to show the HTML representation or trust the notebook. <br />On GitHub, the HTML representation is unable to render, please try loading this page with nbviewer.org.</b></div><div class=\"sk-container\" hidden><div class=\"sk-item\"><div class=\"sk-estimator sk-toggleable\"><input class=\"sk-toggleable__control sk-hidden--visually\" id=\"sk-estimator-id-7\" type=\"checkbox\" checked><label for=\"sk-estimator-id-7\" class=\"sk-toggleable__label sk-toggleable__label-arrow\">RandomForestRegressor</label><div class=\"sk-toggleable__content\"><pre>RandomForestRegressor()</pre></div></div></div></div></div>"
      ],
      "text/plain": [
       "RandomForestRegressor()"
      ]
     },
     "execution_count": 186,
     "metadata": {},
     "output_type": "execute_result"
    }
   ],
   "source": [
    "from sklearn.ensemble import RandomForestRegressor\n",
    "model = RandomForestRegressor()\n",
    "model.fit(X_train, y_train)"
   ]
  },
  {
   "cell_type": "code",
   "execution_count": 183,
   "id": "d4f2503c",
   "metadata": {},
   "outputs": [
    {
     "name": "stdout",
     "output_type": "stream",
     "text": [
      "[('Happiness Rank', 0.9942825061376968), ('Economy (GDP per Capita)', 0.000893294696266311), ('Generosity', 0.0007967925139796536), ('Standard Error', 0.0006700666461069846), ('Country_Togo', 0.000592770635934972), ('Health (Life Expectancy)', 0.0005444129955415364), ('Trust (Government Corruption)', 0.000531628957037465), ('Freedom', 0.0004980467620499558), ('Family', 0.0003913356273008302), ('Dystopia Residual', 0.00030791237392344383), ('Region_Western Europe', 7.570290877712304e-05), ('Region_Middle East and Northern Africa', 6.921845962346322e-05), ('Country_Benin', 5.258083453198248e-05), ('Region_Latin America and Caribbean', 4.407864499158962e-05), ('Country_United States', 2.6646928027969286e-05), ('Country_Syria', 2.2567526960813855e-05), ('Region_Sub-Saharan Africa', 1.9115585790159895e-05), ('Region_Southeastern Asia', 1.3632287716149705e-05), ('Region_Central and Eastern Europe', 1.2042616007234621e-05), ('Country_Mauritania', 9.094835302433868e-06), ('Country_Albania', 8.219602331359745e-06), ('Country_Rwanda', 7.569230846072939e-06), ('Country_Macedonia', 6.731668284882934e-06), ('Country_Guatemala', 6.497547229959239e-06), ('Country_Trinidad and Tobago', 6.222197012960605e-06), ('Region_North America', 6.062890097280854e-06), ('Country_France', 5.51981959923924e-06), ('Country_Saudi Arabia', 4.265187943714087e-06), ('Country_Chile', 4.254202216238467e-06), ('Country_Indonesia', 4.192196956316288e-06), ('Country_Ireland', 3.953903112381834e-06), ('Country_Niger', 3.531371000434623e-06), ('Country_Kosovo', 3.2522457886553325e-06), ('Country_Luxembourg', 3.236517964485571e-06), ('Country_Canada', 3.1856989054171993e-06), ('Country_Afghanistan', 3.0887565919959224e-06), ('Country_Sweden', 3.07818815763801e-06), ('Country_Bolivia', 3.0674915909758997e-06), ('Country_Armenia', 3.065031653094492e-06), ('Country_Yemen', 2.9756134198614537e-06), ('Country_Kenya', 2.582939942869185e-06), ('Country_Germany', 2.1518109993916143e-06), ('Country_Cambodia', 1.951835449740326e-06), ('Country_Kyrgyzstan', 1.9470426596309692e-06), ('Country_Gabon', 1.9073377803102372e-06), ('Country_Algeria', 1.8697849536990364e-06), ('Country_Mauritius', 1.7906659279033128e-06), ('Country_Tunisia', 1.6830086063726635e-06), ('Country_Mexico', 1.6544484554720859e-06), ('Country_New Zealand', 1.6314178042129786e-06), ('Country_Senegal', 1.5740914164350375e-06), ('Country_Malta', 1.5327729777691047e-06), ('Country_South Africa', 1.4345306409940198e-06), ('Country_Costa Rica', 1.4186863087047322e-06), ('Country_Israel', 1.3603113270155685e-06), ('Country_Burkina Faso', 1.2757809482396638e-06), ('Region_Southern Asia', 1.262289905297133e-06), ('Country_Liberia', 1.2464295327193722e-06), ('Country_Italy', 1.1958883636097397e-06), ('Country_Morocco', 1.135140119805837e-06), ('Country_Norway', 9.802580289647732e-07), ('Country_Zimbabwe', 9.591429617146368e-07), ('Country_Finland', 9.530137728458706e-07), ('Country_Colombia', 9.040270423794114e-07), ('Country_Poland', 8.78230808735574e-07), ('Region_Eastern Asia', 8.530902312966248e-07), ('Country_Bulgaria', 7.668540100055148e-07), ('Country_Switzerland', 7.462300631768936e-07), ('Country_India', 7.037130521468719e-07), ('Country_Lebanon', 6.573301143287295e-07), ('Country_Paraguay', 6.440734933273457e-07), ('Region_Australia and New Zealand', 6.4114015104203e-07), ('Country_Vietnam', 6.180483194947882e-07), ('Country_Spain', 6.155829310133691e-07), ('Country_Croatia', 5.554134882828078e-07), ('Country_Oman', 5.371188757165511e-07), ('Country_Montenegro', 5.214973346149659e-07), ('Country_United Kingdom', 5.0295946243737e-07), ('Country_Cameroon', 4.78424343878559e-07), ('Country_Singapore', 4.3740325002296944e-07), ('Country_Guinea', 4.3101806267364913e-07), ('Country_Angola', 3.810613970171105e-07), ('Country_Georgia', 3.763089598619604e-07), ('Country_Qatar', 3.749078518700364e-07), ('Country_Estonia', 3.744805714235827e-07), ('Country_Philippines', 3.7286451645018455e-07), ('Country_Iceland', 3.5930235244972886e-07), ('Country_Ethiopia', 3.442717002153406e-07), ('Country_Kazakhstan', 3.079811644636189e-07), ('Country_Tajikistan', 2.9632413078009034e-07), ('Country_Palestinian Territories', 2.849919786746289e-07), ('Country_Nepal', 2.7709010565614143e-07), ('Country_Sudan', 2.4995397811304403e-07), ('Country_Libya', 1.9041180925062238e-07), ('Country_Latvia', 1.779407144031642e-07), ('Country_Congo (Brazzaville)', 1.6873580799727322e-07), ('Country_Haiti', 1.606694139820661e-07), ('Country_Venezuela', 1.597710644137899e-07), ('Country_Jamaica', 1.5415495099441493e-07), ('Country_Azerbaijan', 1.3811822999282037e-07), ('Country_Bhutan', 1.305661295224598e-07), ('Country_Suriname', 1.302760762506192e-07), ('Country_Botswana', 1.2962620416330342e-07), ('Country_Netherlands', 1.246448260693323e-07), ('Country_Slovakia', 1.1263031800922956e-07), ('Country_Iraq', 1.095127502060861e-07), ('Country_Thailand', 1.0589643381008183e-07), ('Country_China', 9.676160357764459e-08), ('Country_El Salvador', 8.716606201395184e-08), ('Country_Hungary', 8.581520575308529e-08), ('Country_Dominican Republic', 8.499428601602236e-08), ('Country_Belarus', 8.012678070446885e-08), ('Country_Uzbekistan', 7.463081238992895e-08), ('Country_Ecuador', 7.357211143356237e-08), ('Country_Mali', 7.247120176914756e-08), ('Country_Hong Kong', 7.122347673879125e-08), ('Country_Central African Republic', 6.913727365036528e-08), ('Country_South Korea', 6.902813185737731e-08), ('Country_Cyprus', 6.875846053901738e-08), ('Country_Bangladesh', 6.53045907111211e-08), ('Country_Malaysia', 6.125517777303078e-08), ('Country_Sri Lanka', 5.963485691576121e-08), ('Country_Slovenia', 5.8655780508633976e-08), ('Country_Kuwait', 5.430826938186049e-08), ('Country_Ukraine', 4.577930991554764e-08), ('Country_Russia', 4.115106537889636e-08), ('Country_Pakistan', 3.5623313435041467e-08), ('Country_Chad', 3.561714806656617e-08), ('Country_Bahrain', 3.517498749088136e-08), ('Country_Portugal', 2.719203045536675e-08), ('Country_Lithuania', 2.6198874336412504e-08), ('Country_Greece', 2.3301760285691563e-08), ('Country_Mongolia', 2.0697174145303813e-08), ('Country_Peru', 1.6080970673503485e-08), ('Country_Zambia', 1.1698174573742087e-08), ('Country_Nigeria', 1.0948472475497188e-08), ('Country_Swaziland', 1.0797491621046425e-08), ('Country_Ghana', 6.8502884507282e-09), ('Country_Denmark', 6.74489907316506e-09), ('Country_Honduras', 4.799696462362507e-09), ('Country_Malawi', 2.8145290421895343e-09), ('Country_Congo (Kinshasa)', 1.993108332766564e-09), ('Country_Taiwan', 1.5130444870253927e-09), ('Country_Serbia', 1.3606732198124944e-09), ('Country_Romania', 2.072823748261735e-10), ('Country_Argentina', 0.0), ('Country_Australia', 0.0), ('Country_Austria', 0.0), ('Country_Belgium', 0.0), ('Country_Bosnia and Herzegovina', 0.0), ('Country_Brazil', 0.0), ('Country_Burundi', 0.0), ('Country_Comoros', 0.0), ('Country_Czech Republic', 0.0), ('Country_Djibouti', 0.0), ('Country_Egypt', 0.0), ('Country_Iran', 0.0), ('Country_Ivory Coast', 0.0), ('Country_Japan', 0.0), ('Country_Jordan', 0.0), ('Country_Laos', 0.0), ('Country_Lesotho', 0.0), ('Country_Madagascar', 0.0), ('Country_Moldova', 0.0), ('Country_Mozambique', 0.0), ('Country_Myanmar', 0.0), ('Country_Nicaragua', 0.0), ('Country_North Cyprus', 0.0), ('Country_Panama', 0.0), ('Country_Sierra Leone', 0.0), ('Country_Somaliland region', 0.0), ('Country_Tanzania', 0.0), ('Country_Turkey', 0.0), ('Country_Turkmenistan', 0.0), ('Country_Uganda', 0.0), ('Country_United Arab Emirates', 0.0), ('Country_Uruguay', 0.0)]\n"
     ]
    }
   ],
   "source": [
    "feature_importances = model.feature_importances_\n",
    "feature_importance_dict = dict(zip(X_train.columns, feature_importances))\n",
    "sorted_importances = sorted(feature_importance_dict.items(), key=lambda x: x[1], reverse=True)\n",
    "print(sorted_importances)"
   ]
  },
  {
   "cell_type": "code",
   "execution_count": 184,
   "id": "216d3899",
   "metadata": {},
   "outputs": [
    {
     "name": "stdout",
     "output_type": "stream",
     "text": [
      "Mean Squared Error: 0.004246327999999977\n"
     ]
    }
   ],
   "source": [
    "mse = mean_squared_error(y_test, model.predict(X_test))\n",
    "print(\"Mean Squared Error:\", mse)"
   ]
  },
  {
   "cell_type": "code",
   "execution_count": 187,
   "id": "90aa9e4d",
   "metadata": {},
   "outputs": [
    {
     "data": {
      "image/png": "[encoded data removed]",
      "text/plain": [
       "<Figure size 640x480 with 1 Axes>"
      ]
     },
     "metadata": {},
     "output_type": "display_data"
    }
   ],
   "source": [
    "plt.scatter(y_test, model.predict(X_test), label='Predictions')\n",
    "plt.plot([y_test.min(), y_test.max()], [y_test.min(), y_test.max()], 'k--', lw=2, label='Actual')\n",
    "plt.xlabel('Actual')\n",
    "plt.ylabel('Predicted')\n",
    "plt.title('Model Performance')\n",
    "plt.legend()\n",
    "plt.show()"
   ]
  },
  {
   "cell_type": "code",
   "execution_count": 188,
   "id": "46c0207a",
   "metadata": {},
   "outputs": [
    {
     "data": {
      "image/png": "[encoded data removed]",
      "text/plain": [
       "<Figure size 640x480 with 1 Axes>"
      ]
     },
     "metadata": {},
     "output_type": "display_data"
    }
   ],
   "source": [
    "residuals = y_test - model.predict(X_test)\n",
    "plt.scatter(y_test, residuals)\n",
    "plt.xlabel('Actual')\n",
    "plt.ylabel('Residuals')\n",
    "plt.title('Residual Plot')\n",
    "plt.axhline(y=0, color='r', linestyle='--')\n",
    "plt.show()"
   ]
  },
  {
   "cell_type": "code",
   "execution_count": 209,
   "id": "daacb277",
   "metadata": {},
   "outputs": [],
   "source": [
    "threshold = 0.2\n",
    "absolute_errors = abs(y_test - model.predict(X_test))\n",
    "poor_performance_indices = absolute_errors > threshold\n",
    "poor_performance_subset = X_test[poor_performance_indices]\n",
    "poor_performance_predictions = model.predict(poor_performance_subset)"
   ]
  },
  {
   "cell_type": "code",
   "execution_count": 216,
   "id": "1d5553aa",
   "metadata": {},
   "outputs": [],
   "source": [
    "from sklearn.model_selection import GridSearchCV\n",
    "from sklearn.ensemble import GradientBoostingRegressor\n",
    "from sklearn.model_selection import cross_val_score\n",
    "from sklearn.preprocessing import StandardScaler\n",
    "param_grid = {'n_estimators': [50, 100, 200], 'max_depth': [None, 10, 20]}\n",
    "grid_search = GridSearchCV(estimator=model, param_grid=param_grid, scoring='neg_mean_squared_error', cv=5)\n",
    "grid_search.fit(X_train, y_train)\n",
    "best_params = grid_search.best_params_\n",
    "best_model = grid_search.best_estimator_"
   ]
  },
  {
   "cell_type": "code",
   "execution_count": 213,
   "id": "7c64c1e5",
   "metadata": {},
   "outputs": [
    {
     "data": {
      "text/html": [
       "<style>#sk-container-id-9 {color: black;}#sk-container-id-9 pre{padding: 0;}#sk-container-id-9 div.sk-toggleable {background-color: white;}#sk-container-id-9 label.sk-toggleable__label {cursor: pointer;display: block;width: 100%;margin-bottom: 0;padding: 0.3em;box-sizing: border-box;text-align: center;}#sk-container-id-9 label.sk-toggleable__label-arrow:before {content: \"▸\";float: left;margin-right: 0.25em;color: #696969;}#sk-container-id-9 label.sk-toggleable__label-arrow:hover:before {color: black;}#sk-container-id-9 div.sk-estimator:hover label.sk-toggleable__label-arrow:before {color: black;}#sk-container-id-9 div.sk-toggleable__content {max-height: 0;max-width: 0;overflow: hidden;text-align: left;background-color: #f0f8ff;}#sk-container-id-9 div.sk-toggleable__content pre {margin: 0.2em;color: black;border-radius: 0.25em;background-color: #f0f8ff;}#sk-container-id-9 input.sk-toggleable__control:checked~div.sk-toggleable__content {max-height: 200px;max-width: 100%;overflow: auto;}#sk-container-id-9 input.sk-toggleable__control:checked~label.sk-toggleable__label-arrow:before {content: \"▾\";}#sk-container-id-9 div.sk-estimator input.sk-toggleable__control:checked~label.sk-toggleable__label {background-color: #d4ebff;}#sk-container-id-9 div.sk-label input.sk-toggleable__control:checked~label.sk-toggleable__label {background-color: #d4ebff;}#sk-container-id-9 input.sk-hidden--visually {border: 0;clip: rect(1px 1px 1px 1px);clip: rect(1px, 1px, 1px, 1px);height: 1px;margin: -1px;overflow: hidden;padding: 0;position: absolute;width: 1px;}#sk-container-id-9 div.sk-estimator {font-family: monospace;background-color: #f0f8ff;border: 1px dotted black;border-radius: 0.25em;box-sizing: border-box;margin-bottom: 0.5em;}#sk-container-id-9 div.sk-estimator:hover {background-color: #d4ebff;}#sk-container-id-9 div.sk-parallel-item::after {content: \"\";width: 100%;border-bottom: 1px solid gray;flex-grow: 1;}#sk-container-id-9 div.sk-label:hover label.sk-toggleable__label {background-color: #d4ebff;}#sk-container-id-9 div.sk-serial::before {content: \"\";position: absolute;border-left: 1px solid gray;box-sizing: border-box;top: 0;bottom: 0;left: 50%;z-index: 0;}#sk-container-id-9 div.sk-serial {display: flex;flex-direction: column;align-items: center;background-color: white;padding-right: 0.2em;padding-left: 0.2em;position: relative;}#sk-container-id-9 div.sk-item {position: relative;z-index: 1;}#sk-container-id-9 div.sk-parallel {display: flex;align-items: stretch;justify-content: center;background-color: white;position: relative;}#sk-container-id-9 div.sk-item::before, #sk-container-id-9 div.sk-parallel-item::before {content: \"\";position: absolute;border-left: 1px solid gray;box-sizing: border-box;top: 0;bottom: 0;left: 50%;z-index: -1;}#sk-container-id-9 div.sk-parallel-item {display: flex;flex-direction: column;z-index: 1;position: relative;background-color: white;}#sk-container-id-9 div.sk-parallel-item:first-child::after {align-self: flex-end;width: 50%;}#sk-container-id-9 div.sk-parallel-item:last-child::after {align-self: flex-start;width: 50%;}#sk-container-id-9 div.sk-parallel-item:only-child::after {width: 0;}#sk-container-id-9 div.sk-dashed-wrapped {border: 1px dashed gray;margin: 0 0.4em 0.5em 0.4em;box-sizing: border-box;padding-bottom: 0.4em;background-color: white;}#sk-container-id-9 div.sk-label label {font-family: monospace;font-weight: bold;display: inline-block;line-height: 1.2em;}#sk-container-id-9 div.sk-label-container {text-align: center;}#sk-container-id-9 div.sk-container {/* jupyter's `normalize.less` sets `[hidden] { display: none; }` but bootstrap.min.css set `[hidden] { display: none !important; }` so we also need the `!important` here to be able to override the default hidden behavior on the sphinx rendered scikit-learn.org. See: https://github.com/scikit-learn/scikit-learn/issues/21755 */display: inline-block !important;position: relative;}#sk-container-id-9 div.sk-text-repr-fallback {display: none;}</style><div id=\"sk-container-id-9\" class=\"sk-top-container\"><div class=\"sk-text-repr-fallback\"><pre>GradientBoostingRegressor()</pre><b>In a Jupyter environment, please rerun this cell to show the HTML representation or trust the notebook. <br />On GitHub, the HTML representation is unable to render, please try loading this page with nbviewer.org.</b></div><div class=\"sk-container\" hidden><div class=\"sk-item\"><div class=\"sk-estimator sk-toggleable\"><input class=\"sk-toggleable__control sk-hidden--visually\" id=\"sk-estimator-id-9\" type=\"checkbox\" checked><label for=\"sk-estimator-id-9\" class=\"sk-toggleable__label sk-toggleable__label-arrow\">GradientBoostingRegressor</label><div class=\"sk-toggleable__content\"><pre>GradientBoostingRegressor()</pre></div></div></div></div></div>"
      ],
      "text/plain": [
       "GradientBoostingRegressor()"
      ]
     },
     "execution_count": 213,
     "metadata": {},
     "output_type": "execute_result"
    }
   ],
   "source": [
    "gb_model = GradientBoostingRegressor()\n",
    "gb_model.fit(X_train, y_train)"
   ]
  },
  {
   "cell_type": "code",
   "execution_count": 217,
   "id": "88a30516",
   "metadata": {},
   "outputs": [
    {
     "name": "stdout",
     "output_type": "stream",
     "text": [
      "Cross-Validation Mean Squared Error: 0.25430467538191676\n"
     ]
    }
   ],
   "source": [
    "scaler = StandardScaler()\n",
    "X_scaled = scaler.fit_transform(X)\n",
    "cv_scores = cross_val_score(model, X_scaled, y, scoring='neg_mean_squared_error', cv=5)\n",
    "print(\"Cross-Validation Mean Squared Error:\", -cv_scores.mean())"
   ]
  },
  {
   "cell_type": "markdown",
   "id": "cec2937a",
   "metadata": {},
   "source": [
    "The model demonstrated a Mean Squared Error (MSE) of 0.042, indicating relatively low prediction errors on the test dataset. This suggests that the model captures a substantial portion of the variance in the target variable.\n",
    "\n",
    "The cross-validation mean squared error of 0.254 suggests that the model's performance remains consistent across different subsets of the data. However, there is room for improvement, particularly in reducing prediction errors and enhancing generalization.\n",
    "\n",
    "To enhance model performance, several strategies were proposed, including feature engineering, model selection, hyperparameter tuning, and error analysis. By iteratively refining the model based on these recommendations, it is possible to achieve better predictive accuracy and robustness."
   ]
  },
  {
   "cell_type": "code",
   "execution_count": null,
   "id": "829d52d4",
   "metadata": {},
   "outputs": [],
   "source": []
  }
 ],
 "metadata": {
  "kernelspec": {
   "display_name": "Python 3 (ipykernel)",
   "language": "python",
   "name": "python3"
  },
  "language_info": {
   "codemirror_mode": {
    "name": "ipython",
    "version": 3
   },
   "file_extension": ".py",
   "mimetype": "text/x-python",
   "name": "python",
   "nbconvert_exporter": "python",
   "pygments_lexer": "ipython3",
   "version": "3.11.5"
  }
 },
 "nbformat": 4,
 "nbformat_minor": 5
}
